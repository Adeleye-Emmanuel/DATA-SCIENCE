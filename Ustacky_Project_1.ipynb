{
 "cells": [
  {
   "cell_type": "markdown",
   "id": "wrong-privacy",
   "metadata": {},
   "source": [
    "# DATA ANALYSIS ON  XYZ SUPERMARKET"
   ]
  },
  {
   "cell_type": "markdown",
   "id": "cellular-context",
   "metadata": {},
   "source": [
    "## Project Scope\n",
    "Company XYZ owns a supermarket chain across the country. Each major branch located in 3 cities across the country recorded sales information for 3 months, to help the company understand sales trends and determine its growth, as the rise of supermarkets competition is seen to increase. "
   ]
  },
  {
   "cell_type": "markdown",
   "id": "primary-concern",
   "metadata": {},
   "source": [
    "## Features Description\n",
    "Invoice ID: Customer Identification number\n",
    "\n",
    "Branch: Supermarket Branch across the country (A, B, C)\n",
    "A - Lagos Branch\n",
    "B - Abuja Branch\n",
    "C - Port Harcourt Branch\n",
    "\n",
    "City: Supermarket Location\n",
    "\n",
    "Customer Type: Type of customers, Members - Returning customer with membership card, Normal - Customer without membership (could be returning, first-time or walk-in customer)\n",
    "\n",
    "Gender: Customer Gender Information\n",
    "\n",
    "Product line: Product categorization groups - Electronic accessories, Fashion accessories, Food and beverages, Health and beauty, Home and lifestyle, Sports and travel\n",
    "\n",
    "Unit Price: Price of each product in Naira\n",
    "\n",
    "Quantity: Number of products purchased by customer\n",
    "\n",
    "Tax: 5% tax fee for customer buying\n",
    "\n",
    "Total: Total price including tax\n",
    "\n",
    "Date: Date of purchase (Supermarket Record available from January 2019 to March 2019)\n",
    "\n",
    "Time: Purchase time (Supermarket Hours - 10am to 9pm)\n",
    "\n",
    "Payment: Payment used by customer for purchase (3 methods are available – Cash, Card and Epay)\n",
    "\n",
    "COGS: Cost of goods sold\n",
    "\n",
    "Gross margin percentage: Gross margin percentage\n",
    "\n",
    "Gross income: Gross income\n",
    "\n",
    "Rating: Customer Satisfaction rating on their overall shopping experience (On a scale of 1 to 10) "
   ]
  },
  {
   "cell_type": "markdown",
   "id": "duplicate-sight",
   "metadata": {},
   "source": [
    "## Project Requirements\n",
    "\n",
    "Step 1 - Loading Datasets\n",
    "-- Correct use of pathname pattern - glob\n",
    "-- Combine all the files generated in a list and export to a CSV.\n",
    "\n",
    "Step 2 - Data Exploration\n",
    "-- Use the head() method to view first few rows of the dataset\n",
    "-- Check the number of rows and columns present in the data using the shape attribute.\n",
    "-- Generate the names of the columns using the columns attribute.\n",
    "-- Use describe function to generate the statistical summary of the dataframe\n",
    "-- Use meaningful sentences to describe findings from the data statistical summary\n",
    "-- Use of correct method to check for Missing values\n",
    "-- Check the information of the DataFrame using the info method.\n",
    "\n",
    "Step 3 - Dealing with DateTime Features\n",
    "-- Use to_datetime() to convert the date column to datetime\n",
    "-- Check the datatype to confirm if it's in datetime\n",
    "-- Accurate conversion of the time column & prints appropriate data type\n",
    "-- Accurate extraction of the Day, Month, Year & Hour features\n",
    "-- The numbers of unique hours of sales in the supermarket are accurately determined.\n",
    "-- Result that shows an array that contains the unique sales hours.\n",
    "\n",
    "Step 4 - Unique Values in Columns\n",
    "-- Appropriate method to generate the unique values in the categorical columns (apart from the example - Branch column).\n",
    "-- Generated the count figure of the categorical values using the value_counts() method.\n",
    "\n",
    "Step 5 - Aggregation with GroupBy\n",
    "-- A groupby object with the \"City Column\", and aggregation function of sum and mean.\n",
    "-- A table that shows the gross income of each city, and determines the city with the highest total gross income.\n",
    "-- Optional - Use of appropriate methods & descriptions to explore other columns such as Unit Price, Quantity.\n",
    "\n",
    "Step 6 - Data Visualization\n",
    "-- Appropriate use of countplot to determine the branch with the highest sales record.\n",
    "-- Optional - Appropriate use of countplot to determine the most used payment method & city with the most sales.\n",
    "-- Appropriate use of countplot to determine the highest & lowest sold product line.\n",
    "-- Result that shows the Payment channel used by most customers to pay for each product line. Chart should also show the \"product line\" column on the Y-axis, and the \"hue\" parameter for the \"Payment\" column. "
   ]
  },
  {
   "cell_type": "markdown",
   "id": "sound-increase",
   "metadata": {},
   "source": [
    "## Importing Libraries"
   ]
  },
  {
   "cell_type": "code",
   "execution_count": 1,
   "id": "consolidated-frank",
   "metadata": {},
   "outputs": [],
   "source": [
    "import os\n",
    "import glob\n",
    "import numpy as np\n",
    "import pandas as pd\n",
    "import matplotlib.pyplot as plt\n",
    "import seaborn as sns\n",
    "%matplotlib inline\n",
    "plt.style.use('fivethirtyeight')  \n",
    "import warnings\n",
    "warnings.filterwarnings('ignore')\n",
    "os.chdir(r'/storage/emulated/0/Ustacky Project 1/')"
   ]
  },
  {
   "cell_type": "markdown",
   "id": "statewide-completion",
   "metadata": {},
   "source": [
    "## Step 1 - Loading Dataset"
   ]
  },
  {
   "cell_type": "markdown",
   "id": "french-zimbabwe",
   "metadata": {},
   "source": [
    "### --> Correct use of pathname pattern - glob\n",
    "### --> Combine all the files generated in a list and export to a CSV."
   ]
  },
  {
   "cell_type": "code",
   "execution_count": 2,
   "id": "threaded-absolute",
   "metadata": {},
   "outputs": [
    {
     "name": "stdout",
     "output_type": "stream",
     "text": [
      "['/storage/emulated/0/Ustacky Project 1/Port_Harcourt_Branch.csv', '/storage/emulated/0/Ustacky Project 1/Lagos_Branch.csv', '/storage/emulated/0/Ustacky Project 1/Abuja_Branch.csv', '/storage/emulated/0/Ustacky Project 1/new_csv.csv']\n"
     ]
    }
   ],
   "source": [
    "extension = 'csv'\n",
    "path = r'/storage/emulated/0/Ustacky Project 1/'\n",
    "files = glob.glob(path + '/*.csv')\n",
    "print(files)"
   ]
  },
  {
   "cell_type": "code",
   "execution_count": 3,
   "id": "invisible-celebrity",
   "metadata": {
    "scrolled": true
   },
   "outputs": [
    {
     "name": "stdout",
     "output_type": "stream",
     "text": [
      "Successfully created dataframe for Port_Harcourt_Branch.csv with shape (328, 17)\n",
      "Successfully created dataframe for Lagos_Branch.csv with shape (340, 17)\n",
      "Successfully created dataframe for Abuja_Branch.csv with shape (332, 17)\n",
      "\n",
      "\n",
      "(1000, 17)\n"
     ]
    }
   ],
   "source": [
    "my_list =[]\n",
    "if '/storage/emulated/0/Ustacky Project 1/new_csv.csv' not in files:\n",
    "    for f in files:\n",
    "        # get filename\n",
    "        stock = os.path.basename(f)\n",
    "        # read in csv\n",
    "        temp_df = pd.read_csv(f)\n",
    "        # create new column with filename\n",
    "        temp_df['Invoice ID'] = stock\n",
    "        # data cleaning to remove the .csv\n",
    "        temp_df['Invoice ID'] = temp_df['Invoice ID'].replace('.csv', '', regex=True)\n",
    "        # append df to list\n",
    "        my_list.append(temp_df)\n",
    "        print(f'Successfully created dataframe for {stock} with shape {temp_df.shape}')\n",
    "else:\n",
    "    files=files[:3]\n",
    "    for f in files:\n",
    "        # get filename\n",
    "        stock = os.path.basename(f)\n",
    "        # read in csv\n",
    "        temp_df = pd.read_csv(f)\n",
    "        # create new column with filename\n",
    "        temp_df['Invoice ID'] = stock\n",
    "        # data cleaning to remove the .csv\n",
    "        temp_df['Invoice ID'] = temp_df['Invoice ID'].replace('.csv', '', regex=True)\n",
    "        # append df to list\n",
    "        my_list.append(temp_df)\n",
    "        print(f'Successfully created dataframe for {stock} with shape {temp_df.shape}')\n",
    "\n",
    "#Export to csv\n",
    "new_csv = pd.concat(my_list, axis = 0)\n",
    "print('\\n')\n",
    "print(new_csv.shape)\n",
    "\n",
    "new_csv.to_csv('new_csv.csv', index = False)"
   ]
  },
  {
   "cell_type": "markdown",
   "id": "patent-twins",
   "metadata": {},
   "source": [
    "## Step 2 - Data Exploration\n",
    "###  --> Use the head() method to view first few rows of the dataset"
   ]
  },
  {
   "cell_type": "code",
   "execution_count": 4,
   "id": "nuclear-machine",
   "metadata": {
    "scrolled": false
   },
   "outputs": [
    {
     "data": {
      "text/html": [
       "<div>\n",
       "<style scoped>\n",
       "    .dataframe tbody tr th:only-of-type {\n",
       "        vertical-align: middle;\n",
       "    }\n",
       "\n",
       "    .dataframe tbody tr th {\n",
       "        vertical-align: top;\n",
       "    }\n",
       "\n",
       "    .dataframe thead th {\n",
       "        text-align: right;\n",
       "    }\n",
       "</style>\n",
       "<table border=\"1\" class=\"dataframe\">\n",
       "  <thead>\n",
       "    <tr style=\"text-align: right;\">\n",
       "      <th></th>\n",
       "      <th>Invoice ID</th>\n",
       "      <th>Branch</th>\n",
       "      <th>City</th>\n",
       "      <th>Customer type</th>\n",
       "      <th>Gender</th>\n",
       "      <th>Product line</th>\n",
       "      <th>Unit price</th>\n",
       "      <th>Quantity</th>\n",
       "      <th>Tax 5%</th>\n",
       "      <th>Total</th>\n",
       "      <th>Date</th>\n",
       "      <th>Time</th>\n",
       "      <th>Payment</th>\n",
       "      <th>cogs</th>\n",
       "      <th>gross margin percentage</th>\n",
       "      <th>gross income</th>\n",
       "      <th>Rating</th>\n",
       "    </tr>\n",
       "  </thead>\n",
       "  <tbody>\n",
       "    <tr>\n",
       "      <th>0</th>\n",
       "      <td>Port_Harcourt_Branch</td>\n",
       "      <td>C</td>\n",
       "      <td>Port Harcourt</td>\n",
       "      <td>Normal</td>\n",
       "      <td>Female</td>\n",
       "      <td>Electronic accessories</td>\n",
       "      <td>5500.8</td>\n",
       "      <td>5</td>\n",
       "      <td>1375.20</td>\n",
       "      <td>28879.20</td>\n",
       "      <td>3/8/2019</td>\n",
       "      <td>10:29</td>\n",
       "      <td>Cash</td>\n",
       "      <td>27504.0</td>\n",
       "      <td>4.761905</td>\n",
       "      <td>1375.20</td>\n",
       "      <td>9.6</td>\n",
       "    </tr>\n",
       "    <tr>\n",
       "      <th>1</th>\n",
       "      <td>Port_Harcourt_Branch</td>\n",
       "      <td>C</td>\n",
       "      <td>Port Harcourt</td>\n",
       "      <td>Normal</td>\n",
       "      <td>Male</td>\n",
       "      <td>Electronic accessories</td>\n",
       "      <td>30740.4</td>\n",
       "      <td>7</td>\n",
       "      <td>10759.14</td>\n",
       "      <td>225941.94</td>\n",
       "      <td>3/25/2019</td>\n",
       "      <td>18:30</td>\n",
       "      <td>Epay</td>\n",
       "      <td>215182.8</td>\n",
       "      <td>4.761905</td>\n",
       "      <td>10759.14</td>\n",
       "      <td>4.1</td>\n",
       "    </tr>\n",
       "    <tr>\n",
       "      <th>2</th>\n",
       "      <td>Port_Harcourt_Branch</td>\n",
       "      <td>C</td>\n",
       "      <td>Port Harcourt</td>\n",
       "      <td>Normal</td>\n",
       "      <td>Female</td>\n",
       "      <td>Home and lifestyle</td>\n",
       "      <td>26481.6</td>\n",
       "      <td>10</td>\n",
       "      <td>13240.80</td>\n",
       "      <td>278056.80</td>\n",
       "      <td>2/24/2019</td>\n",
       "      <td>11:38</td>\n",
       "      <td>Epay</td>\n",
       "      <td>264816.0</td>\n",
       "      <td>4.761905</td>\n",
       "      <td>13240.80</td>\n",
       "      <td>8.0</td>\n",
       "    </tr>\n",
       "    <tr>\n",
       "      <th>3</th>\n",
       "      <td>Port_Harcourt_Branch</td>\n",
       "      <td>C</td>\n",
       "      <td>Port Harcourt</td>\n",
       "      <td>Member</td>\n",
       "      <td>Male</td>\n",
       "      <td>Electronic accessories</td>\n",
       "      <td>30974.4</td>\n",
       "      <td>5</td>\n",
       "      <td>7743.60</td>\n",
       "      <td>162615.60</td>\n",
       "      <td>2/25/2019</td>\n",
       "      <td>11:24</td>\n",
       "      <td>Epay</td>\n",
       "      <td>154872.0</td>\n",
       "      <td>4.761905</td>\n",
       "      <td>7743.60</td>\n",
       "      <td>4.8</td>\n",
       "    </tr>\n",
       "    <tr>\n",
       "      <th>4</th>\n",
       "      <td>Port_Harcourt_Branch</td>\n",
       "      <td>C</td>\n",
       "      <td>Port Harcourt</td>\n",
       "      <td>Member</td>\n",
       "      <td>Female</td>\n",
       "      <td>Food and beverages</td>\n",
       "      <td>35791.2</td>\n",
       "      <td>4</td>\n",
       "      <td>7158.24</td>\n",
       "      <td>150323.04</td>\n",
       "      <td>2/6/2019</td>\n",
       "      <td>10:42</td>\n",
       "      <td>Epay</td>\n",
       "      <td>143164.8</td>\n",
       "      <td>4.761905</td>\n",
       "      <td>7158.24</td>\n",
       "      <td>7.5</td>\n",
       "    </tr>\n",
       "    <tr>\n",
       "      <th>...</th>\n",
       "      <td>...</td>\n",
       "      <td>...</td>\n",
       "      <td>...</td>\n",
       "      <td>...</td>\n",
       "      <td>...</td>\n",
       "      <td>...</td>\n",
       "      <td>...</td>\n",
       "      <td>...</td>\n",
       "      <td>...</td>\n",
       "      <td>...</td>\n",
       "      <td>...</td>\n",
       "      <td>...</td>\n",
       "      <td>...</td>\n",
       "      <td>...</td>\n",
       "      <td>...</td>\n",
       "      <td>...</td>\n",
       "      <td>...</td>\n",
       "    </tr>\n",
       "    <tr>\n",
       "      <th>995</th>\n",
       "      <td>Abuja_Branch</td>\n",
       "      <td>B</td>\n",
       "      <td>Abuja</td>\n",
       "      <td>Member</td>\n",
       "      <td>Male</td>\n",
       "      <td>Health and beauty</td>\n",
       "      <td>22320.0</td>\n",
       "      <td>8</td>\n",
       "      <td>8928.00</td>\n",
       "      <td>187488.00</td>\n",
       "      <td>1/3/2019</td>\n",
       "      <td>19:08</td>\n",
       "      <td>Card</td>\n",
       "      <td>178560.0</td>\n",
       "      <td>4.761905</td>\n",
       "      <td>8928.00</td>\n",
       "      <td>6.2</td>\n",
       "    </tr>\n",
       "    <tr>\n",
       "      <th>996</th>\n",
       "      <td>Abuja_Branch</td>\n",
       "      <td>B</td>\n",
       "      <td>Abuja</td>\n",
       "      <td>Member</td>\n",
       "      <td>Male</td>\n",
       "      <td>Health and beauty</td>\n",
       "      <td>27133.2</td>\n",
       "      <td>8</td>\n",
       "      <td>10853.28</td>\n",
       "      <td>227918.88</td>\n",
       "      <td>1/28/2019</td>\n",
       "      <td>15:46</td>\n",
       "      <td>Card</td>\n",
       "      <td>217065.6</td>\n",
       "      <td>4.761905</td>\n",
       "      <td>10853.28</td>\n",
       "      <td>8.4</td>\n",
       "    </tr>\n",
       "    <tr>\n",
       "      <th>997</th>\n",
       "      <td>Abuja_Branch</td>\n",
       "      <td>B</td>\n",
       "      <td>Abuja</td>\n",
       "      <td>Normal</td>\n",
       "      <td>Female</td>\n",
       "      <td>Sports and travel</td>\n",
       "      <td>27576.0</td>\n",
       "      <td>10</td>\n",
       "      <td>13788.00</td>\n",
       "      <td>289548.00</td>\n",
       "      <td>1/24/2019</td>\n",
       "      <td>18:10</td>\n",
       "      <td>Epay</td>\n",
       "      <td>275760.0</td>\n",
       "      <td>4.761905</td>\n",
       "      <td>13788.00</td>\n",
       "      <td>6.0</td>\n",
       "    </tr>\n",
       "    <tr>\n",
       "      <th>998</th>\n",
       "      <td>Abuja_Branch</td>\n",
       "      <td>B</td>\n",
       "      <td>Abuja</td>\n",
       "      <td>Normal</td>\n",
       "      <td>Male</td>\n",
       "      <td>Fashion accessories</td>\n",
       "      <td>6296.4</td>\n",
       "      <td>10</td>\n",
       "      <td>3148.20</td>\n",
       "      <td>66112.20</td>\n",
       "      <td>2/22/2019</td>\n",
       "      <td>18:35</td>\n",
       "      <td>Epay</td>\n",
       "      <td>62964.0</td>\n",
       "      <td>4.761905</td>\n",
       "      <td>3148.20</td>\n",
       "      <td>6.6</td>\n",
       "    </tr>\n",
       "    <tr>\n",
       "      <th>999</th>\n",
       "      <td>Abuja_Branch</td>\n",
       "      <td>B</td>\n",
       "      <td>Abuja</td>\n",
       "      <td>Normal</td>\n",
       "      <td>Female</td>\n",
       "      <td>Home and lifestyle</td>\n",
       "      <td>35056.8</td>\n",
       "      <td>10</td>\n",
       "      <td>17528.40</td>\n",
       "      <td>368096.40</td>\n",
       "      <td>3/2/2019</td>\n",
       "      <td>17:16</td>\n",
       "      <td>Epay</td>\n",
       "      <td>350568.0</td>\n",
       "      <td>4.761905</td>\n",
       "      <td>17528.40</td>\n",
       "      <td>4.4</td>\n",
       "    </tr>\n",
       "  </tbody>\n",
       "</table>\n",
       "<p>1000 rows × 17 columns</p>\n",
       "</div>"
      ],
      "text/plain": [
       "               Invoice ID Branch           City Customer type  Gender  \\\n",
       "0    Port_Harcourt_Branch      C  Port Harcourt        Normal  Female   \n",
       "1    Port_Harcourt_Branch      C  Port Harcourt        Normal    Male   \n",
       "2    Port_Harcourt_Branch      C  Port Harcourt        Normal  Female   \n",
       "3    Port_Harcourt_Branch      C  Port Harcourt        Member    Male   \n",
       "4    Port_Harcourt_Branch      C  Port Harcourt        Member  Female   \n",
       "..                    ...    ...            ...           ...     ...   \n",
       "995          Abuja_Branch      B          Abuja        Member    Male   \n",
       "996          Abuja_Branch      B          Abuja        Member    Male   \n",
       "997          Abuja_Branch      B          Abuja        Normal  Female   \n",
       "998          Abuja_Branch      B          Abuja        Normal    Male   \n",
       "999          Abuja_Branch      B          Abuja        Normal  Female   \n",
       "\n",
       "               Product line  Unit price  Quantity    Tax 5%      Total  \\\n",
       "0    Electronic accessories      5500.8         5   1375.20   28879.20   \n",
       "1    Electronic accessories     30740.4         7  10759.14  225941.94   \n",
       "2        Home and lifestyle     26481.6        10  13240.80  278056.80   \n",
       "3    Electronic accessories     30974.4         5   7743.60  162615.60   \n",
       "4        Food and beverages     35791.2         4   7158.24  150323.04   \n",
       "..                      ...         ...       ...       ...        ...   \n",
       "995       Health and beauty     22320.0         8   8928.00  187488.00   \n",
       "996       Health and beauty     27133.2         8  10853.28  227918.88   \n",
       "997       Sports and travel     27576.0        10  13788.00  289548.00   \n",
       "998     Fashion accessories      6296.4        10   3148.20   66112.20   \n",
       "999      Home and lifestyle     35056.8        10  17528.40  368096.40   \n",
       "\n",
       "          Date   Time Payment      cogs  gross margin percentage  \\\n",
       "0     3/8/2019  10:29    Cash   27504.0                 4.761905   \n",
       "1    3/25/2019  18:30    Epay  215182.8                 4.761905   \n",
       "2    2/24/2019  11:38    Epay  264816.0                 4.761905   \n",
       "3    2/25/2019  11:24    Epay  154872.0                 4.761905   \n",
       "4     2/6/2019  10:42    Epay  143164.8                 4.761905   \n",
       "..         ...    ...     ...       ...                      ...   \n",
       "995   1/3/2019  19:08    Card  178560.0                 4.761905   \n",
       "996  1/28/2019  15:46    Card  217065.6                 4.761905   \n",
       "997  1/24/2019  18:10    Epay  275760.0                 4.761905   \n",
       "998  2/22/2019  18:35    Epay   62964.0                 4.761905   \n",
       "999   3/2/2019  17:16    Epay  350568.0                 4.761905   \n",
       "\n",
       "     gross income  Rating  \n",
       "0         1375.20     9.6  \n",
       "1        10759.14     4.1  \n",
       "2        13240.80     8.0  \n",
       "3         7743.60     4.8  \n",
       "4         7158.24     7.5  \n",
       "..            ...     ...  \n",
       "995       8928.00     6.2  \n",
       "996      10853.28     8.4  \n",
       "997      13788.00     6.0  \n",
       "998       3148.20     6.6  \n",
       "999      17528.40     4.4  \n",
       "\n",
       "[1000 rows x 17 columns]"
      ]
     },
     "execution_count": 4,
     "metadata": {},
     "output_type": "execute_result"
    }
   ],
   "source": [
    "data = pd.read_csv('new_csv.csv')\n",
    "data"
   ]
  },
  {
   "cell_type": "markdown",
   "id": "played-tuition",
   "metadata": {},
   "source": [
    "###  --> Check the number of rows and columns present in the data using the shape attribute."
   ]
  },
  {
   "cell_type": "code",
   "execution_count": 5,
   "id": "available-training",
   "metadata": {},
   "outputs": [
    {
     "data": {
      "text/plain": [
       "(1000, 17)"
      ]
     },
     "execution_count": 5,
     "metadata": {},
     "output_type": "execute_result"
    }
   ],
   "source": [
    "data.shape"
   ]
  },
  {
   "cell_type": "markdown",
   "id": "responsible-virginia",
   "metadata": {},
   "source": [
    "lagos=pd.read_csv('/storage/emulated/0/Ustacky Project 1/Lagos_Branch.csv',index_col=False)\n",
    "abuja=pd.read_csv('/storage/emulated/0/Ustacky Project 1/Abuja_Branch.csv',index_col=False)\n",
    "port_h=pd.read_csv('/storage/emulated/0/Ustacky Project 1/Port_Harcourt_Branch.csv',index_col=False)"
   ]
  },
  {
   "cell_type": "markdown",
   "id": "bottom-excuse",
   "metadata": {},
   "source": [
    "###  --> Generate the names of the columns using the columns attribute."
   ]
  },
  {
   "cell_type": "code",
   "execution_count": 6,
   "id": "respective-strength",
   "metadata": {
    "scrolled": true
   },
   "outputs": [
    {
     "data": {
      "text/html": [
       "<div>\n",
       "<style scoped>\n",
       "    .dataframe tbody tr th:only-of-type {\n",
       "        vertical-align: middle;\n",
       "    }\n",
       "\n",
       "    .dataframe tbody tr th {\n",
       "        vertical-align: top;\n",
       "    }\n",
       "\n",
       "    .dataframe thead th {\n",
       "        text-align: right;\n",
       "    }\n",
       "</style>\n",
       "<table border=\"1\" class=\"dataframe\">\n",
       "  <thead>\n",
       "    <tr style=\"text-align: right;\">\n",
       "      <th></th>\n",
       "      <th>Invoice ID</th>\n",
       "      <th>Branch</th>\n",
       "      <th>City</th>\n",
       "      <th>Customer type</th>\n",
       "      <th>Gender</th>\n",
       "      <th>Product line</th>\n",
       "      <th>Unit price</th>\n",
       "      <th>Quantity</th>\n",
       "      <th>Tax 5%</th>\n",
       "      <th>Total</th>\n",
       "      <th>Date</th>\n",
       "      <th>Time</th>\n",
       "      <th>Payment</th>\n",
       "      <th>cogs</th>\n",
       "      <th>gross margin percentage</th>\n",
       "      <th>gross income</th>\n",
       "      <th>Rating</th>\n",
       "    </tr>\n",
       "  </thead>\n",
       "  <tbody>\n",
       "    <tr>\n",
       "      <th>0</th>\n",
       "      <td>Port_Harcourt_Branch</td>\n",
       "      <td>C</td>\n",
       "      <td>Port Harcourt</td>\n",
       "      <td>Normal</td>\n",
       "      <td>Female</td>\n",
       "      <td>Electronic accessories</td>\n",
       "      <td>5500.8</td>\n",
       "      <td>5</td>\n",
       "      <td>1375.20</td>\n",
       "      <td>28879.20</td>\n",
       "      <td>3/8/2019</td>\n",
       "      <td>10:29</td>\n",
       "      <td>Cash</td>\n",
       "      <td>27504.0</td>\n",
       "      <td>4.761905</td>\n",
       "      <td>1375.20</td>\n",
       "      <td>9.6</td>\n",
       "    </tr>\n",
       "    <tr>\n",
       "      <th>1</th>\n",
       "      <td>Port_Harcourt_Branch</td>\n",
       "      <td>C</td>\n",
       "      <td>Port Harcourt</td>\n",
       "      <td>Normal</td>\n",
       "      <td>Male</td>\n",
       "      <td>Electronic accessories</td>\n",
       "      <td>30740.4</td>\n",
       "      <td>7</td>\n",
       "      <td>10759.14</td>\n",
       "      <td>225941.94</td>\n",
       "      <td>3/25/2019</td>\n",
       "      <td>18:30</td>\n",
       "      <td>Epay</td>\n",
       "      <td>215182.8</td>\n",
       "      <td>4.761905</td>\n",
       "      <td>10759.14</td>\n",
       "      <td>4.1</td>\n",
       "    </tr>\n",
       "    <tr>\n",
       "      <th>2</th>\n",
       "      <td>Port_Harcourt_Branch</td>\n",
       "      <td>C</td>\n",
       "      <td>Port Harcourt</td>\n",
       "      <td>Normal</td>\n",
       "      <td>Female</td>\n",
       "      <td>Home and lifestyle</td>\n",
       "      <td>26481.6</td>\n",
       "      <td>10</td>\n",
       "      <td>13240.80</td>\n",
       "      <td>278056.80</td>\n",
       "      <td>2/24/2019</td>\n",
       "      <td>11:38</td>\n",
       "      <td>Epay</td>\n",
       "      <td>264816.0</td>\n",
       "      <td>4.761905</td>\n",
       "      <td>13240.80</td>\n",
       "      <td>8.0</td>\n",
       "    </tr>\n",
       "    <tr>\n",
       "      <th>3</th>\n",
       "      <td>Port_Harcourt_Branch</td>\n",
       "      <td>C</td>\n",
       "      <td>Port Harcourt</td>\n",
       "      <td>Member</td>\n",
       "      <td>Male</td>\n",
       "      <td>Electronic accessories</td>\n",
       "      <td>30974.4</td>\n",
       "      <td>5</td>\n",
       "      <td>7743.60</td>\n",
       "      <td>162615.60</td>\n",
       "      <td>2/25/2019</td>\n",
       "      <td>11:24</td>\n",
       "      <td>Epay</td>\n",
       "      <td>154872.0</td>\n",
       "      <td>4.761905</td>\n",
       "      <td>7743.60</td>\n",
       "      <td>4.8</td>\n",
       "    </tr>\n",
       "    <tr>\n",
       "      <th>4</th>\n",
       "      <td>Port_Harcourt_Branch</td>\n",
       "      <td>C</td>\n",
       "      <td>Port Harcourt</td>\n",
       "      <td>Member</td>\n",
       "      <td>Female</td>\n",
       "      <td>Food and beverages</td>\n",
       "      <td>35791.2</td>\n",
       "      <td>4</td>\n",
       "      <td>7158.24</td>\n",
       "      <td>150323.04</td>\n",
       "      <td>2/6/2019</td>\n",
       "      <td>10:42</td>\n",
       "      <td>Epay</td>\n",
       "      <td>143164.8</td>\n",
       "      <td>4.761905</td>\n",
       "      <td>7158.24</td>\n",
       "      <td>7.5</td>\n",
       "    </tr>\n",
       "  </tbody>\n",
       "</table>\n",
       "</div>"
      ],
      "text/plain": [
       "             Invoice ID Branch           City Customer type  Gender  \\\n",
       "0  Port_Harcourt_Branch      C  Port Harcourt        Normal  Female   \n",
       "1  Port_Harcourt_Branch      C  Port Harcourt        Normal    Male   \n",
       "2  Port_Harcourt_Branch      C  Port Harcourt        Normal  Female   \n",
       "3  Port_Harcourt_Branch      C  Port Harcourt        Member    Male   \n",
       "4  Port_Harcourt_Branch      C  Port Harcourt        Member  Female   \n",
       "\n",
       "             Product line  Unit price  Quantity    Tax 5%      Total  \\\n",
       "0  Electronic accessories      5500.8         5   1375.20   28879.20   \n",
       "1  Electronic accessories     30740.4         7  10759.14  225941.94   \n",
       "2      Home and lifestyle     26481.6        10  13240.80  278056.80   \n",
       "3  Electronic accessories     30974.4         5   7743.60  162615.60   \n",
       "4      Food and beverages     35791.2         4   7158.24  150323.04   \n",
       "\n",
       "        Date   Time Payment      cogs  gross margin percentage  gross income  \\\n",
       "0   3/8/2019  10:29    Cash   27504.0                 4.761905       1375.20   \n",
       "1  3/25/2019  18:30    Epay  215182.8                 4.761905      10759.14   \n",
       "2  2/24/2019  11:38    Epay  264816.0                 4.761905      13240.80   \n",
       "3  2/25/2019  11:24    Epay  154872.0                 4.761905       7743.60   \n",
       "4   2/6/2019  10:42    Epay  143164.8                 4.761905       7158.24   \n",
       "\n",
       "   Rating  \n",
       "0     9.6  \n",
       "1     4.1  \n",
       "2     8.0  \n",
       "3     4.8  \n",
       "4     7.5  "
      ]
     },
     "execution_count": 6,
     "metadata": {},
     "output_type": "execute_result"
    }
   ],
   "source": [
    "data.head()"
   ]
  },
  {
   "cell_type": "code",
   "execution_count": 7,
   "id": "serial-petersburg",
   "metadata": {},
   "outputs": [
    {
     "data": {
      "text/plain": [
       "(1000, 17)"
      ]
     },
     "execution_count": 7,
     "metadata": {},
     "output_type": "execute_result"
    }
   ],
   "source": [
    "data.shape"
   ]
  },
  {
   "cell_type": "code",
   "execution_count": 8,
   "id": "modern-infection",
   "metadata": {},
   "outputs": [
    {
     "data": {
      "text/plain": [
       "Index(['Invoice ID', 'Branch', 'City', 'Customer type', 'Gender',\n",
       "       'Product line', 'Unit price', 'Quantity', 'Tax 5%', 'Total', 'Date',\n",
       "       'Time', 'Payment', 'cogs', 'gross margin percentage', 'gross income',\n",
       "       'Rating'],\n",
       "      dtype='object')"
      ]
     },
     "execution_count": 8,
     "metadata": {},
     "output_type": "execute_result"
    }
   ],
   "source": [
    "data.columns"
   ]
  },
  {
   "cell_type": "code",
   "execution_count": 9,
   "id": "descending-beaver",
   "metadata": {},
   "outputs": [
    {
     "data": {
      "text/html": [
       "<div>\n",
       "<style scoped>\n",
       "    .dataframe tbody tr th:only-of-type {\n",
       "        vertical-align: middle;\n",
       "    }\n",
       "\n",
       "    .dataframe tbody tr th {\n",
       "        vertical-align: top;\n",
       "    }\n",
       "\n",
       "    .dataframe thead th {\n",
       "        text-align: right;\n",
       "    }\n",
       "</style>\n",
       "<table border=\"1\" class=\"dataframe\">\n",
       "  <thead>\n",
       "    <tr style=\"text-align: right;\">\n",
       "      <th></th>\n",
       "      <th>Columns</th>\n",
       "    </tr>\n",
       "  </thead>\n",
       "  <tbody>\n",
       "    <tr>\n",
       "      <th>0</th>\n",
       "      <td>Invoice ID</td>\n",
       "    </tr>\n",
       "    <tr>\n",
       "      <th>1</th>\n",
       "      <td>Branch</td>\n",
       "    </tr>\n",
       "    <tr>\n",
       "      <th>2</th>\n",
       "      <td>City</td>\n",
       "    </tr>\n",
       "    <tr>\n",
       "      <th>3</th>\n",
       "      <td>Customer type</td>\n",
       "    </tr>\n",
       "    <tr>\n",
       "      <th>4</th>\n",
       "      <td>Gender</td>\n",
       "    </tr>\n",
       "    <tr>\n",
       "      <th>5</th>\n",
       "      <td>Product line</td>\n",
       "    </tr>\n",
       "    <tr>\n",
       "      <th>6</th>\n",
       "      <td>Unit price</td>\n",
       "    </tr>\n",
       "    <tr>\n",
       "      <th>7</th>\n",
       "      <td>Quantity</td>\n",
       "    </tr>\n",
       "    <tr>\n",
       "      <th>8</th>\n",
       "      <td>Tax 5%</td>\n",
       "    </tr>\n",
       "    <tr>\n",
       "      <th>9</th>\n",
       "      <td>Total</td>\n",
       "    </tr>\n",
       "    <tr>\n",
       "      <th>10</th>\n",
       "      <td>Date</td>\n",
       "    </tr>\n",
       "    <tr>\n",
       "      <th>11</th>\n",
       "      <td>Time</td>\n",
       "    </tr>\n",
       "    <tr>\n",
       "      <th>12</th>\n",
       "      <td>Payment</td>\n",
       "    </tr>\n",
       "    <tr>\n",
       "      <th>13</th>\n",
       "      <td>cogs</td>\n",
       "    </tr>\n",
       "    <tr>\n",
       "      <th>14</th>\n",
       "      <td>gross margin percentage</td>\n",
       "    </tr>\n",
       "    <tr>\n",
       "      <th>15</th>\n",
       "      <td>gross income</td>\n",
       "    </tr>\n",
       "    <tr>\n",
       "      <th>16</th>\n",
       "      <td>Rating</td>\n",
       "    </tr>\n",
       "  </tbody>\n",
       "</table>\n",
       "</div>"
      ],
      "text/plain": [
       "                    Columns\n",
       "0                Invoice ID\n",
       "1                    Branch\n",
       "2                      City\n",
       "3             Customer type\n",
       "4                    Gender\n",
       "5              Product line\n",
       "6                Unit price\n",
       "7                  Quantity\n",
       "8                    Tax 5%\n",
       "9                     Total\n",
       "10                     Date\n",
       "11                     Time\n",
       "12                  Payment\n",
       "13                     cogs\n",
       "14  gross margin percentage\n",
       "15             gross income\n",
       "16                   Rating"
      ]
     },
     "execution_count": 9,
     "metadata": {},
     "output_type": "execute_result"
    }
   ],
   "source": [
    "columns=pd.DataFrame(data.columns,columns=['Columns'])\n",
    "columns"
   ]
  },
  {
   "cell_type": "markdown",
   "id": "overall-signature",
   "metadata": {},
   "source": [
    "## DATA EXPLORATION"
   ]
  },
  {
   "cell_type": "code",
   "execution_count": 10,
   "id": "incident-certification",
   "metadata": {},
   "outputs": [
    {
     "name": "stdout",
     "output_type": "stream",
     "text": [
      "<class 'pandas.core.frame.DataFrame'>\n",
      "RangeIndex: 1000 entries, 0 to 999\n",
      "Data columns (total 17 columns):\n",
      " #   Column                   Non-Null Count  Dtype  \n",
      "---  ------                   --------------  -----  \n",
      " 0   Invoice ID               1000 non-null   object \n",
      " 1   Branch                   1000 non-null   object \n",
      " 2   City                     1000 non-null   object \n",
      " 3   Customer type            1000 non-null   object \n",
      " 4   Gender                   1000 non-null   object \n",
      " 5   Product line             1000 non-null   object \n",
      " 6   Unit price               1000 non-null   float64\n",
      " 7   Quantity                 1000 non-null   int64  \n",
      " 8   Tax 5%                   1000 non-null   float64\n",
      " 9   Total                    1000 non-null   float64\n",
      " 10  Date                     1000 non-null   object \n",
      " 11  Time                     1000 non-null   object \n",
      " 12  Payment                  1000 non-null   object \n",
      " 13  cogs                     1000 non-null   float64\n",
      " 14  gross margin percentage  1000 non-null   float64\n",
      " 15  gross income             1000 non-null   float64\n",
      " 16  Rating                   1000 non-null   float64\n",
      "dtypes: float64(7), int64(1), object(9)\n",
      "memory usage: 97.7+ KB\n"
     ]
    }
   ],
   "source": [
    "data.info()"
   ]
  },
  {
   "cell_type": "markdown",
   "id": "adverse-desert",
   "metadata": {},
   "source": [
    "### --> Use describe function to generate the statistical summary of the dataframe"
   ]
  },
  {
   "cell_type": "code",
   "execution_count": 11,
   "id": "young-french",
   "metadata": {
    "scrolled": true
   },
   "outputs": [
    {
     "data": {
      "text/html": [
       "<div>\n",
       "<style scoped>\n",
       "    .dataframe tbody tr th:only-of-type {\n",
       "        vertical-align: middle;\n",
       "    }\n",
       "\n",
       "    .dataframe tbody tr th {\n",
       "        vertical-align: top;\n",
       "    }\n",
       "\n",
       "    .dataframe thead th {\n",
       "        text-align: right;\n",
       "    }\n",
       "</style>\n",
       "<table border=\"1\" class=\"dataframe\">\n",
       "  <thead>\n",
       "    <tr style=\"text-align: right;\">\n",
       "      <th></th>\n",
       "      <th>Unit price</th>\n",
       "      <th>Quantity</th>\n",
       "      <th>Tax 5%</th>\n",
       "      <th>Total</th>\n",
       "      <th>cogs</th>\n",
       "      <th>gross margin percentage</th>\n",
       "      <th>gross income</th>\n",
       "      <th>Rating</th>\n",
       "    </tr>\n",
       "  </thead>\n",
       "  <tbody>\n",
       "    <tr>\n",
       "      <th>count</th>\n",
       "      <td>1000.000000</td>\n",
       "      <td>1000.000000</td>\n",
       "      <td>1000.000000</td>\n",
       "      <td>1000.000000</td>\n",
       "      <td>1000.000000</td>\n",
       "      <td>1000.000000</td>\n",
       "      <td>1000.000000</td>\n",
       "      <td>1000.00000</td>\n",
       "    </tr>\n",
       "    <tr>\n",
       "      <th>mean</th>\n",
       "      <td>20041.966800</td>\n",
       "      <td>5.510000</td>\n",
       "      <td>5536.572840</td>\n",
       "      <td>116268.029640</td>\n",
       "      <td>110731.456800</td>\n",
       "      <td>4.761905</td>\n",
       "      <td>5536.572840</td>\n",
       "      <td>6.97270</td>\n",
       "    </tr>\n",
       "    <tr>\n",
       "      <th>std</th>\n",
       "      <td>9538.066205</td>\n",
       "      <td>2.923431</td>\n",
       "      <td>4215.177173</td>\n",
       "      <td>88518.720636</td>\n",
       "      <td>84303.543463</td>\n",
       "      <td>0.000000</td>\n",
       "      <td>4215.177173</td>\n",
       "      <td>1.71858</td>\n",
       "    </tr>\n",
       "    <tr>\n",
       "      <th>min</th>\n",
       "      <td>3628.800000</td>\n",
       "      <td>1.000000</td>\n",
       "      <td>183.060000</td>\n",
       "      <td>3844.260000</td>\n",
       "      <td>3661.200000</td>\n",
       "      <td>4.761905</td>\n",
       "      <td>183.060000</td>\n",
       "      <td>4.00000</td>\n",
       "    </tr>\n",
       "    <tr>\n",
       "      <th>25%</th>\n",
       "      <td>11835.000000</td>\n",
       "      <td>3.000000</td>\n",
       "      <td>2132.955000</td>\n",
       "      <td>44792.055000</td>\n",
       "      <td>42659.100000</td>\n",
       "      <td>4.761905</td>\n",
       "      <td>2132.955000</td>\n",
       "      <td>5.50000</td>\n",
       "    </tr>\n",
       "    <tr>\n",
       "      <th>50%</th>\n",
       "      <td>19882.800000</td>\n",
       "      <td>5.000000</td>\n",
       "      <td>4351.680000</td>\n",
       "      <td>91385.280000</td>\n",
       "      <td>87033.600000</td>\n",
       "      <td>4.761905</td>\n",
       "      <td>4351.680000</td>\n",
       "      <td>7.00000</td>\n",
       "    </tr>\n",
       "    <tr>\n",
       "      <th>75%</th>\n",
       "      <td>28056.600000</td>\n",
       "      <td>8.000000</td>\n",
       "      <td>8080.290000</td>\n",
       "      <td>169686.090000</td>\n",
       "      <td>161605.800000</td>\n",
       "      <td>4.761905</td>\n",
       "      <td>8080.290000</td>\n",
       "      <td>8.50000</td>\n",
       "    </tr>\n",
       "    <tr>\n",
       "      <th>max</th>\n",
       "      <td>35985.600000</td>\n",
       "      <td>10.000000</td>\n",
       "      <td>17874.000000</td>\n",
       "      <td>375354.000000</td>\n",
       "      <td>357480.000000</td>\n",
       "      <td>4.761905</td>\n",
       "      <td>17874.000000</td>\n",
       "      <td>10.00000</td>\n",
       "    </tr>\n",
       "  </tbody>\n",
       "</table>\n",
       "</div>"
      ],
      "text/plain": [
       "         Unit price     Quantity        Tax 5%          Total           cogs  \\\n",
       "count   1000.000000  1000.000000   1000.000000    1000.000000    1000.000000   \n",
       "mean   20041.966800     5.510000   5536.572840  116268.029640  110731.456800   \n",
       "std     9538.066205     2.923431   4215.177173   88518.720636   84303.543463   \n",
       "min     3628.800000     1.000000    183.060000    3844.260000    3661.200000   \n",
       "25%    11835.000000     3.000000   2132.955000   44792.055000   42659.100000   \n",
       "50%    19882.800000     5.000000   4351.680000   91385.280000   87033.600000   \n",
       "75%    28056.600000     8.000000   8080.290000  169686.090000  161605.800000   \n",
       "max    35985.600000    10.000000  17874.000000  375354.000000  357480.000000   \n",
       "\n",
       "       gross margin percentage  gross income      Rating  \n",
       "count              1000.000000   1000.000000  1000.00000  \n",
       "mean                  4.761905   5536.572840     6.97270  \n",
       "std                   0.000000   4215.177173     1.71858  \n",
       "min                   4.761905    183.060000     4.00000  \n",
       "25%                   4.761905   2132.955000     5.50000  \n",
       "50%                   4.761905   4351.680000     7.00000  \n",
       "75%                   4.761905   8080.290000     8.50000  \n",
       "max                   4.761905  17874.000000    10.00000  "
      ]
     },
     "execution_count": 11,
     "metadata": {},
     "output_type": "execute_result"
    }
   ],
   "source": [
    "data.describe()"
   ]
  },
  {
   "cell_type": "markdown",
   "id": "palestinian-colony",
   "metadata": {},
   "source": [
    "### --> Use meaningful sentences to describe findings from the data statistical summary"
   ]
  },
  {
   "cell_type": "markdown",
   "id": "authentic-endorsement",
   "metadata": {},
   "source": [
    "The approximate average unit price and quantity are #20,000 and 6 units respectively making our total sales/revenue to be around #120,000 without incurring tax.\n",
    "\n",
    "The tax on the supermarket is about 4.5% of the total sales\n",
    "\n",
    "After accounting for tax the average total value is found to be around #116,000.\n",
    "#### Formula;\n",
    "##### Gross Profit= Net sales - Cost of goods sold\n",
    "##### Gross Profit Percentage= Gross Profit/ net sales x 100\n",
    "Knowing that the average cost of goods sold is apporximately #110,700 and the gross income is approximately #5537 it informs us that the average sales made within the timeframe is about #115,000 \n",
    "\n",
    "The average rating is 6.97 indicating that the supermarket is doing slightly better above average implying that more work needs to be done to improve tghe companies services and products availability to customers\n"
   ]
  },
  {
   "cell_type": "markdown",
   "id": "better-crisis",
   "metadata": {},
   "source": [
    "### --> Use of correct method to check for Missing values"
   ]
  },
  {
   "cell_type": "code",
   "execution_count": 12,
   "id": "available-shadow",
   "metadata": {},
   "outputs": [
    {
     "data": {
      "text/html": [
       "<div>\n",
       "<style scoped>\n",
       "    .dataframe tbody tr th:only-of-type {\n",
       "        vertical-align: middle;\n",
       "    }\n",
       "\n",
       "    .dataframe tbody tr th {\n",
       "        vertical-align: top;\n",
       "    }\n",
       "\n",
       "    .dataframe thead th {\n",
       "        text-align: right;\n",
       "    }\n",
       "</style>\n",
       "<table border=\"1\" class=\"dataframe\">\n",
       "  <thead>\n",
       "    <tr style=\"text-align: right;\">\n",
       "      <th></th>\n",
       "      <th>Invoice ID</th>\n",
       "      <th>Branch</th>\n",
       "      <th>City</th>\n",
       "      <th>Customer type</th>\n",
       "      <th>Gender</th>\n",
       "      <th>Product line</th>\n",
       "      <th>Unit price</th>\n",
       "      <th>Quantity</th>\n",
       "      <th>Tax 5%</th>\n",
       "      <th>Total</th>\n",
       "      <th>Date</th>\n",
       "      <th>Time</th>\n",
       "      <th>Payment</th>\n",
       "      <th>cogs</th>\n",
       "      <th>gross margin percentage</th>\n",
       "      <th>gross income</th>\n",
       "      <th>Rating</th>\n",
       "    </tr>\n",
       "  </thead>\n",
       "  <tbody>\n",
       "    <tr>\n",
       "      <th>0</th>\n",
       "      <td>False</td>\n",
       "      <td>False</td>\n",
       "      <td>False</td>\n",
       "      <td>False</td>\n",
       "      <td>False</td>\n",
       "      <td>False</td>\n",
       "      <td>False</td>\n",
       "      <td>False</td>\n",
       "      <td>False</td>\n",
       "      <td>False</td>\n",
       "      <td>False</td>\n",
       "      <td>False</td>\n",
       "      <td>False</td>\n",
       "      <td>False</td>\n",
       "      <td>False</td>\n",
       "      <td>False</td>\n",
       "      <td>False</td>\n",
       "    </tr>\n",
       "    <tr>\n",
       "      <th>1</th>\n",
       "      <td>False</td>\n",
       "      <td>False</td>\n",
       "      <td>False</td>\n",
       "      <td>False</td>\n",
       "      <td>False</td>\n",
       "      <td>False</td>\n",
       "      <td>False</td>\n",
       "      <td>False</td>\n",
       "      <td>False</td>\n",
       "      <td>False</td>\n",
       "      <td>False</td>\n",
       "      <td>False</td>\n",
       "      <td>False</td>\n",
       "      <td>False</td>\n",
       "      <td>False</td>\n",
       "      <td>False</td>\n",
       "      <td>False</td>\n",
       "    </tr>\n",
       "    <tr>\n",
       "      <th>2</th>\n",
       "      <td>False</td>\n",
       "      <td>False</td>\n",
       "      <td>False</td>\n",
       "      <td>False</td>\n",
       "      <td>False</td>\n",
       "      <td>False</td>\n",
       "      <td>False</td>\n",
       "      <td>False</td>\n",
       "      <td>False</td>\n",
       "      <td>False</td>\n",
       "      <td>False</td>\n",
       "      <td>False</td>\n",
       "      <td>False</td>\n",
       "      <td>False</td>\n",
       "      <td>False</td>\n",
       "      <td>False</td>\n",
       "      <td>False</td>\n",
       "    </tr>\n",
       "    <tr>\n",
       "      <th>3</th>\n",
       "      <td>False</td>\n",
       "      <td>False</td>\n",
       "      <td>False</td>\n",
       "      <td>False</td>\n",
       "      <td>False</td>\n",
       "      <td>False</td>\n",
       "      <td>False</td>\n",
       "      <td>False</td>\n",
       "      <td>False</td>\n",
       "      <td>False</td>\n",
       "      <td>False</td>\n",
       "      <td>False</td>\n",
       "      <td>False</td>\n",
       "      <td>False</td>\n",
       "      <td>False</td>\n",
       "      <td>False</td>\n",
       "      <td>False</td>\n",
       "    </tr>\n",
       "    <tr>\n",
       "      <th>4</th>\n",
       "      <td>False</td>\n",
       "      <td>False</td>\n",
       "      <td>False</td>\n",
       "      <td>False</td>\n",
       "      <td>False</td>\n",
       "      <td>False</td>\n",
       "      <td>False</td>\n",
       "      <td>False</td>\n",
       "      <td>False</td>\n",
       "      <td>False</td>\n",
       "      <td>False</td>\n",
       "      <td>False</td>\n",
       "      <td>False</td>\n",
       "      <td>False</td>\n",
       "      <td>False</td>\n",
       "      <td>False</td>\n",
       "      <td>False</td>\n",
       "    </tr>\n",
       "    <tr>\n",
       "      <th>...</th>\n",
       "      <td>...</td>\n",
       "      <td>...</td>\n",
       "      <td>...</td>\n",
       "      <td>...</td>\n",
       "      <td>...</td>\n",
       "      <td>...</td>\n",
       "      <td>...</td>\n",
       "      <td>...</td>\n",
       "      <td>...</td>\n",
       "      <td>...</td>\n",
       "      <td>...</td>\n",
       "      <td>...</td>\n",
       "      <td>...</td>\n",
       "      <td>...</td>\n",
       "      <td>...</td>\n",
       "      <td>...</td>\n",
       "      <td>...</td>\n",
       "    </tr>\n",
       "    <tr>\n",
       "      <th>995</th>\n",
       "      <td>False</td>\n",
       "      <td>False</td>\n",
       "      <td>False</td>\n",
       "      <td>False</td>\n",
       "      <td>False</td>\n",
       "      <td>False</td>\n",
       "      <td>False</td>\n",
       "      <td>False</td>\n",
       "      <td>False</td>\n",
       "      <td>False</td>\n",
       "      <td>False</td>\n",
       "      <td>False</td>\n",
       "      <td>False</td>\n",
       "      <td>False</td>\n",
       "      <td>False</td>\n",
       "      <td>False</td>\n",
       "      <td>False</td>\n",
       "    </tr>\n",
       "    <tr>\n",
       "      <th>996</th>\n",
       "      <td>False</td>\n",
       "      <td>False</td>\n",
       "      <td>False</td>\n",
       "      <td>False</td>\n",
       "      <td>False</td>\n",
       "      <td>False</td>\n",
       "      <td>False</td>\n",
       "      <td>False</td>\n",
       "      <td>False</td>\n",
       "      <td>False</td>\n",
       "      <td>False</td>\n",
       "      <td>False</td>\n",
       "      <td>False</td>\n",
       "      <td>False</td>\n",
       "      <td>False</td>\n",
       "      <td>False</td>\n",
       "      <td>False</td>\n",
       "    </tr>\n",
       "    <tr>\n",
       "      <th>997</th>\n",
       "      <td>False</td>\n",
       "      <td>False</td>\n",
       "      <td>False</td>\n",
       "      <td>False</td>\n",
       "      <td>False</td>\n",
       "      <td>False</td>\n",
       "      <td>False</td>\n",
       "      <td>False</td>\n",
       "      <td>False</td>\n",
       "      <td>False</td>\n",
       "      <td>False</td>\n",
       "      <td>False</td>\n",
       "      <td>False</td>\n",
       "      <td>False</td>\n",
       "      <td>False</td>\n",
       "      <td>False</td>\n",
       "      <td>False</td>\n",
       "    </tr>\n",
       "    <tr>\n",
       "      <th>998</th>\n",
       "      <td>False</td>\n",
       "      <td>False</td>\n",
       "      <td>False</td>\n",
       "      <td>False</td>\n",
       "      <td>False</td>\n",
       "      <td>False</td>\n",
       "      <td>False</td>\n",
       "      <td>False</td>\n",
       "      <td>False</td>\n",
       "      <td>False</td>\n",
       "      <td>False</td>\n",
       "      <td>False</td>\n",
       "      <td>False</td>\n",
       "      <td>False</td>\n",
       "      <td>False</td>\n",
       "      <td>False</td>\n",
       "      <td>False</td>\n",
       "    </tr>\n",
       "    <tr>\n",
       "      <th>999</th>\n",
       "      <td>False</td>\n",
       "      <td>False</td>\n",
       "      <td>False</td>\n",
       "      <td>False</td>\n",
       "      <td>False</td>\n",
       "      <td>False</td>\n",
       "      <td>False</td>\n",
       "      <td>False</td>\n",
       "      <td>False</td>\n",
       "      <td>False</td>\n",
       "      <td>False</td>\n",
       "      <td>False</td>\n",
       "      <td>False</td>\n",
       "      <td>False</td>\n",
       "      <td>False</td>\n",
       "      <td>False</td>\n",
       "      <td>False</td>\n",
       "    </tr>\n",
       "  </tbody>\n",
       "</table>\n",
       "<p>1000 rows × 17 columns</p>\n",
       "</div>"
      ],
      "text/plain": [
       "     Invoice ID  Branch   City  Customer type  Gender  Product line  \\\n",
       "0         False   False  False          False   False         False   \n",
       "1         False   False  False          False   False         False   \n",
       "2         False   False  False          False   False         False   \n",
       "3         False   False  False          False   False         False   \n",
       "4         False   False  False          False   False         False   \n",
       "..          ...     ...    ...            ...     ...           ...   \n",
       "995       False   False  False          False   False         False   \n",
       "996       False   False  False          False   False         False   \n",
       "997       False   False  False          False   False         False   \n",
       "998       False   False  False          False   False         False   \n",
       "999       False   False  False          False   False         False   \n",
       "\n",
       "     Unit price  Quantity  Tax 5%  Total   Date   Time  Payment   cogs  \\\n",
       "0         False     False   False  False  False  False    False  False   \n",
       "1         False     False   False  False  False  False    False  False   \n",
       "2         False     False   False  False  False  False    False  False   \n",
       "3         False     False   False  False  False  False    False  False   \n",
       "4         False     False   False  False  False  False    False  False   \n",
       "..          ...       ...     ...    ...    ...    ...      ...    ...   \n",
       "995       False     False   False  False  False  False    False  False   \n",
       "996       False     False   False  False  False  False    False  False   \n",
       "997       False     False   False  False  False  False    False  False   \n",
       "998       False     False   False  False  False  False    False  False   \n",
       "999       False     False   False  False  False  False    False  False   \n",
       "\n",
       "     gross margin percentage  gross income  Rating  \n",
       "0                      False         False   False  \n",
       "1                      False         False   False  \n",
       "2                      False         False   False  \n",
       "3                      False         False   False  \n",
       "4                      False         False   False  \n",
       "..                       ...           ...     ...  \n",
       "995                    False         False   False  \n",
       "996                    False         False   False  \n",
       "997                    False         False   False  \n",
       "998                    False         False   False  \n",
       "999                    False         False   False  \n",
       "\n",
       "[1000 rows x 17 columns]"
      ]
     },
     "execution_count": 12,
     "metadata": {},
     "output_type": "execute_result"
    }
   ],
   "source": [
    "data.isnull()"
   ]
  },
  {
   "cell_type": "code",
   "execution_count": 13,
   "id": "authorized-humor",
   "metadata": {},
   "outputs": [
    {
     "data": {
      "text/plain": [
       "Invoice ID                 1000\n",
       "Branch                     1000\n",
       "City                       1000\n",
       "Customer type              1000\n",
       "Gender                     1000\n",
       "Product line               1000\n",
       "Unit price                 1000\n",
       "Quantity                   1000\n",
       "Tax 5%                     1000\n",
       "Total                      1000\n",
       "Date                       1000\n",
       "Time                       1000\n",
       "Payment                    1000\n",
       "cogs                       1000\n",
       "gross margin percentage    1000\n",
       "gross income               1000\n",
       "Rating                     1000\n",
       "dtype: int64"
      ]
     },
     "execution_count": 13,
     "metadata": {},
     "output_type": "execute_result"
    }
   ],
   "source": [
    "data.notna().count()"
   ]
  },
  {
   "cell_type": "markdown",
   "id": "bulgarian-velvet",
   "metadata": {},
   "source": [
    "All the data are filled with inputs and hence there are no null or empty data cells in the columns"
   ]
  },
  {
   "cell_type": "markdown",
   "id": "inclusive-backup",
   "metadata": {},
   "source": [
    "### --> Check the information of the DataFrame using the info method."
   ]
  },
  {
   "cell_type": "code",
   "execution_count": 14,
   "id": "residential-president",
   "metadata": {},
   "outputs": [
    {
     "name": "stdout",
     "output_type": "stream",
     "text": [
      "<class 'pandas.core.frame.DataFrame'>\n",
      "RangeIndex: 1000 entries, 0 to 999\n",
      "Data columns (total 17 columns):\n",
      " #   Column                   Non-Null Count  Dtype  \n",
      "---  ------                   --------------  -----  \n",
      " 0   Invoice ID               1000 non-null   object \n",
      " 1   Branch                   1000 non-null   object \n",
      " 2   City                     1000 non-null   object \n",
      " 3   Customer type            1000 non-null   object \n",
      " 4   Gender                   1000 non-null   object \n",
      " 5   Product line             1000 non-null   object \n",
      " 6   Unit price               1000 non-null   float64\n",
      " 7   Quantity                 1000 non-null   int64  \n",
      " 8   Tax 5%                   1000 non-null   float64\n",
      " 9   Total                    1000 non-null   float64\n",
      " 10  Date                     1000 non-null   object \n",
      " 11  Time                     1000 non-null   object \n",
      " 12  Payment                  1000 non-null   object \n",
      " 13  cogs                     1000 non-null   float64\n",
      " 14  gross margin percentage  1000 non-null   float64\n",
      " 15  gross income             1000 non-null   float64\n",
      " 16  Rating                   1000 non-null   float64\n",
      "dtypes: float64(7), int64(1), object(9)\n",
      "memory usage: 97.7+ KB\n"
     ]
    }
   ],
   "source": [
    "data.info()"
   ]
  },
  {
   "cell_type": "markdown",
   "id": "attractive-arena",
   "metadata": {},
   "source": [
    "## Step 3 - Dealing with DateTime Features\n",
    "### --> Use to_datetime() to convert the date column to datetime"
   ]
  },
  {
   "cell_type": "code",
   "execution_count": 15,
   "id": "latest-drove",
   "metadata": {},
   "outputs": [],
   "source": [
    "data['Date']=pd.to_datetime(data['Date'])"
   ]
  },
  {
   "cell_type": "code",
   "execution_count": 16,
   "id": "annual-italic",
   "metadata": {},
   "outputs": [
    {
     "name": "stdout",
     "output_type": "stream",
     "text": [
      "<class 'pandas.core.frame.DataFrame'>\n",
      "RangeIndex: 1000 entries, 0 to 999\n",
      "Data columns (total 17 columns):\n",
      " #   Column                   Non-Null Count  Dtype         \n",
      "---  ------                   --------------  -----         \n",
      " 0   Invoice ID               1000 non-null   object        \n",
      " 1   Branch                   1000 non-null   object        \n",
      " 2   City                     1000 non-null   object        \n",
      " 3   Customer type            1000 non-null   object        \n",
      " 4   Gender                   1000 non-null   object        \n",
      " 5   Product line             1000 non-null   object        \n",
      " 6   Unit price               1000 non-null   float64       \n",
      " 7   Quantity                 1000 non-null   int64         \n",
      " 8   Tax 5%                   1000 non-null   float64       \n",
      " 9   Total                    1000 non-null   float64       \n",
      " 10  Date                     1000 non-null   datetime64[ns]\n",
      " 11  Time                     1000 non-null   object        \n",
      " 12  Payment                  1000 non-null   object        \n",
      " 13  cogs                     1000 non-null   float64       \n",
      " 14  gross margin percentage  1000 non-null   float64       \n",
      " 15  gross income             1000 non-null   float64       \n",
      " 16  Rating                   1000 non-null   float64       \n",
      "dtypes: datetime64[ns](1), float64(7), int64(1), object(8)\n",
      "memory usage: 101.6+ KB\n"
     ]
    }
   ],
   "source": [
    "data.info()"
   ]
  },
  {
   "cell_type": "code",
   "execution_count": 17,
   "id": "painful-tactics",
   "metadata": {},
   "outputs": [
    {
     "data": {
      "text/html": [
       "<div>\n",
       "<style scoped>\n",
       "    .dataframe tbody tr th:only-of-type {\n",
       "        vertical-align: middle;\n",
       "    }\n",
       "\n",
       "    .dataframe tbody tr th {\n",
       "        vertical-align: top;\n",
       "    }\n",
       "\n",
       "    .dataframe thead th {\n",
       "        text-align: right;\n",
       "    }\n",
       "</style>\n",
       "<table border=\"1\" class=\"dataframe\">\n",
       "  <thead>\n",
       "    <tr style=\"text-align: right;\">\n",
       "      <th></th>\n",
       "      <th>Invoice ID</th>\n",
       "      <th>Branch</th>\n",
       "      <th>City</th>\n",
       "      <th>Customer type</th>\n",
       "      <th>Gender</th>\n",
       "      <th>Product line</th>\n",
       "      <th>Unit price</th>\n",
       "      <th>Quantity</th>\n",
       "      <th>Tax 5%</th>\n",
       "      <th>Total</th>\n",
       "      <th>Date</th>\n",
       "      <th>Time</th>\n",
       "      <th>Payment</th>\n",
       "      <th>cogs</th>\n",
       "      <th>gross margin percentage</th>\n",
       "      <th>gross income</th>\n",
       "      <th>Rating</th>\n",
       "    </tr>\n",
       "  </thead>\n",
       "  <tbody>\n",
       "    <tr>\n",
       "      <th>0</th>\n",
       "      <td>Port_Harcourt_Branch</td>\n",
       "      <td>C</td>\n",
       "      <td>Port Harcourt</td>\n",
       "      <td>Normal</td>\n",
       "      <td>Female</td>\n",
       "      <td>Electronic accessories</td>\n",
       "      <td>5500.8</td>\n",
       "      <td>5</td>\n",
       "      <td>1375.20</td>\n",
       "      <td>28879.20</td>\n",
       "      <td>2019-03-08</td>\n",
       "      <td>10:29</td>\n",
       "      <td>Cash</td>\n",
       "      <td>27504.0</td>\n",
       "      <td>4.761905</td>\n",
       "      <td>1375.20</td>\n",
       "      <td>9.6</td>\n",
       "    </tr>\n",
       "    <tr>\n",
       "      <th>1</th>\n",
       "      <td>Port_Harcourt_Branch</td>\n",
       "      <td>C</td>\n",
       "      <td>Port Harcourt</td>\n",
       "      <td>Normal</td>\n",
       "      <td>Male</td>\n",
       "      <td>Electronic accessories</td>\n",
       "      <td>30740.4</td>\n",
       "      <td>7</td>\n",
       "      <td>10759.14</td>\n",
       "      <td>225941.94</td>\n",
       "      <td>2019-03-25</td>\n",
       "      <td>18:30</td>\n",
       "      <td>Epay</td>\n",
       "      <td>215182.8</td>\n",
       "      <td>4.761905</td>\n",
       "      <td>10759.14</td>\n",
       "      <td>4.1</td>\n",
       "    </tr>\n",
       "    <tr>\n",
       "      <th>2</th>\n",
       "      <td>Port_Harcourt_Branch</td>\n",
       "      <td>C</td>\n",
       "      <td>Port Harcourt</td>\n",
       "      <td>Normal</td>\n",
       "      <td>Female</td>\n",
       "      <td>Home and lifestyle</td>\n",
       "      <td>26481.6</td>\n",
       "      <td>10</td>\n",
       "      <td>13240.80</td>\n",
       "      <td>278056.80</td>\n",
       "      <td>2019-02-24</td>\n",
       "      <td>11:38</td>\n",
       "      <td>Epay</td>\n",
       "      <td>264816.0</td>\n",
       "      <td>4.761905</td>\n",
       "      <td>13240.80</td>\n",
       "      <td>8.0</td>\n",
       "    </tr>\n",
       "    <tr>\n",
       "      <th>3</th>\n",
       "      <td>Port_Harcourt_Branch</td>\n",
       "      <td>C</td>\n",
       "      <td>Port Harcourt</td>\n",
       "      <td>Member</td>\n",
       "      <td>Male</td>\n",
       "      <td>Electronic accessories</td>\n",
       "      <td>30974.4</td>\n",
       "      <td>5</td>\n",
       "      <td>7743.60</td>\n",
       "      <td>162615.60</td>\n",
       "      <td>2019-02-25</td>\n",
       "      <td>11:24</td>\n",
       "      <td>Epay</td>\n",
       "      <td>154872.0</td>\n",
       "      <td>4.761905</td>\n",
       "      <td>7743.60</td>\n",
       "      <td>4.8</td>\n",
       "    </tr>\n",
       "    <tr>\n",
       "      <th>4</th>\n",
       "      <td>Port_Harcourt_Branch</td>\n",
       "      <td>C</td>\n",
       "      <td>Port Harcourt</td>\n",
       "      <td>Member</td>\n",
       "      <td>Female</td>\n",
       "      <td>Food and beverages</td>\n",
       "      <td>35791.2</td>\n",
       "      <td>4</td>\n",
       "      <td>7158.24</td>\n",
       "      <td>150323.04</td>\n",
       "      <td>2019-02-06</td>\n",
       "      <td>10:42</td>\n",
       "      <td>Epay</td>\n",
       "      <td>143164.8</td>\n",
       "      <td>4.761905</td>\n",
       "      <td>7158.24</td>\n",
       "      <td>7.5</td>\n",
       "    </tr>\n",
       "  </tbody>\n",
       "</table>\n",
       "</div>"
      ],
      "text/plain": [
       "             Invoice ID Branch           City Customer type  Gender  \\\n",
       "0  Port_Harcourt_Branch      C  Port Harcourt        Normal  Female   \n",
       "1  Port_Harcourt_Branch      C  Port Harcourt        Normal    Male   \n",
       "2  Port_Harcourt_Branch      C  Port Harcourt        Normal  Female   \n",
       "3  Port_Harcourt_Branch      C  Port Harcourt        Member    Male   \n",
       "4  Port_Harcourt_Branch      C  Port Harcourt        Member  Female   \n",
       "\n",
       "             Product line  Unit price  Quantity    Tax 5%      Total  \\\n",
       "0  Electronic accessories      5500.8         5   1375.20   28879.20   \n",
       "1  Electronic accessories     30740.4         7  10759.14  225941.94   \n",
       "2      Home and lifestyle     26481.6        10  13240.80  278056.80   \n",
       "3  Electronic accessories     30974.4         5   7743.60  162615.60   \n",
       "4      Food and beverages     35791.2         4   7158.24  150323.04   \n",
       "\n",
       "        Date   Time Payment      cogs  gross margin percentage  gross income  \\\n",
       "0 2019-03-08  10:29    Cash   27504.0                 4.761905       1375.20   \n",
       "1 2019-03-25  18:30    Epay  215182.8                 4.761905      10759.14   \n",
       "2 2019-02-24  11:38    Epay  264816.0                 4.761905      13240.80   \n",
       "3 2019-02-25  11:24    Epay  154872.0                 4.761905       7743.60   \n",
       "4 2019-02-06  10:42    Epay  143164.8                 4.761905       7158.24   \n",
       "\n",
       "   Rating  \n",
       "0     9.6  \n",
       "1     4.1  \n",
       "2     8.0  \n",
       "3     4.8  \n",
       "4     7.5  "
      ]
     },
     "execution_count": 17,
     "metadata": {},
     "output_type": "execute_result"
    }
   ],
   "source": [
    "data.head()"
   ]
  },
  {
   "cell_type": "markdown",
   "id": "artificial-benjamin",
   "metadata": {},
   "source": [
    "### --> Check the datatype to confirm if it's in datetime"
   ]
  },
  {
   "cell_type": "code",
   "execution_count": 18,
   "id": "committed-prison",
   "metadata": {
    "scrolled": true
   },
   "outputs": [
    {
     "data": {
      "text/plain": [
       "dtype('<M8[ns]')"
      ]
     },
     "execution_count": 18,
     "metadata": {},
     "output_type": "execute_result"
    }
   ],
   "source": [
    "data['Date'].dtype"
   ]
  },
  {
   "cell_type": "markdown",
   "id": "desperate-aspect",
   "metadata": {},
   "source": [
    "### --> Accurate conversion of the time column & prints appropriate data type"
   ]
  },
  {
   "cell_type": "code",
   "execution_count": 19,
   "id": "ruled-scanner",
   "metadata": {},
   "outputs": [],
   "source": [
    "data['Time']=pd.to_datetime(data['Time'])"
   ]
  },
  {
   "cell_type": "code",
   "execution_count": 20,
   "id": "chemical-irrigation",
   "metadata": {},
   "outputs": [
    {
     "data": {
      "text/plain": [
       "dtype('<M8[ns]')"
      ]
     },
     "execution_count": 20,
     "metadata": {},
     "output_type": "execute_result"
    }
   ],
   "source": [
    "data['Time'].dtype"
   ]
  },
  {
   "cell_type": "code",
   "execution_count": 21,
   "id": "significant-relations",
   "metadata": {},
   "outputs": [
    {
     "data": {
      "text/plain": [
       "dtype('<M8[ns]')"
      ]
     },
     "execution_count": 21,
     "metadata": {},
     "output_type": "execute_result"
    }
   ],
   "source": [
    "data.Time.dtype"
   ]
  },
  {
   "cell_type": "code",
   "execution_count": 22,
   "id": "american-reality",
   "metadata": {},
   "outputs": [
    {
     "name": "stdout",
     "output_type": "stream",
     "text": [
      "<class 'pandas.core.frame.DataFrame'>\n",
      "RangeIndex: 1000 entries, 0 to 999\n",
      "Data columns (total 17 columns):\n",
      " #   Column                   Non-Null Count  Dtype         \n",
      "---  ------                   --------------  -----         \n",
      " 0   Invoice ID               1000 non-null   object        \n",
      " 1   Branch                   1000 non-null   object        \n",
      " 2   City                     1000 non-null   object        \n",
      " 3   Customer type            1000 non-null   object        \n",
      " 4   Gender                   1000 non-null   object        \n",
      " 5   Product line             1000 non-null   object        \n",
      " 6   Unit price               1000 non-null   float64       \n",
      " 7   Quantity                 1000 non-null   int64         \n",
      " 8   Tax 5%                   1000 non-null   float64       \n",
      " 9   Total                    1000 non-null   float64       \n",
      " 10  Date                     1000 non-null   datetime64[ns]\n",
      " 11  Time                     1000 non-null   datetime64[ns]\n",
      " 12  Payment                  1000 non-null   object        \n",
      " 13  cogs                     1000 non-null   float64       \n",
      " 14  gross margin percentage  1000 non-null   float64       \n",
      " 15  gross income             1000 non-null   float64       \n",
      " 16  Rating                   1000 non-null   float64       \n",
      "dtypes: datetime64[ns](2), float64(7), int64(1), object(7)\n",
      "memory usage: 105.5+ KB\n"
     ]
    }
   ],
   "source": [
    "data.info()"
   ]
  },
  {
   "cell_type": "code",
   "execution_count": 23,
   "id": "marked-grove",
   "metadata": {},
   "outputs": [
    {
     "data": {
      "text/html": [
       "<div>\n",
       "<style scoped>\n",
       "    .dataframe tbody tr th:only-of-type {\n",
       "        vertical-align: middle;\n",
       "    }\n",
       "\n",
       "    .dataframe tbody tr th {\n",
       "        vertical-align: top;\n",
       "    }\n",
       "\n",
       "    .dataframe thead th {\n",
       "        text-align: right;\n",
       "    }\n",
       "</style>\n",
       "<table border=\"1\" class=\"dataframe\">\n",
       "  <thead>\n",
       "    <tr style=\"text-align: right;\">\n",
       "      <th></th>\n",
       "      <th>Invoice ID</th>\n",
       "      <th>Branch</th>\n",
       "      <th>City</th>\n",
       "      <th>Customer type</th>\n",
       "      <th>Gender</th>\n",
       "      <th>Product line</th>\n",
       "      <th>Unit price</th>\n",
       "      <th>Quantity</th>\n",
       "      <th>Tax 5%</th>\n",
       "      <th>Total</th>\n",
       "      <th>Date</th>\n",
       "      <th>Time</th>\n",
       "      <th>Payment</th>\n",
       "      <th>cogs</th>\n",
       "      <th>gross margin percentage</th>\n",
       "      <th>gross income</th>\n",
       "      <th>Rating</th>\n",
       "    </tr>\n",
       "  </thead>\n",
       "  <tbody>\n",
       "    <tr>\n",
       "      <th>0</th>\n",
       "      <td>Port_Harcourt_Branch</td>\n",
       "      <td>C</td>\n",
       "      <td>Port Harcourt</td>\n",
       "      <td>Normal</td>\n",
       "      <td>Female</td>\n",
       "      <td>Electronic accessories</td>\n",
       "      <td>5500.8</td>\n",
       "      <td>5</td>\n",
       "      <td>1375.20</td>\n",
       "      <td>28879.20</td>\n",
       "      <td>2019-03-08</td>\n",
       "      <td>2021-05-19 10:29:00</td>\n",
       "      <td>Cash</td>\n",
       "      <td>27504.0</td>\n",
       "      <td>4.761905</td>\n",
       "      <td>1375.20</td>\n",
       "      <td>9.6</td>\n",
       "    </tr>\n",
       "    <tr>\n",
       "      <th>1</th>\n",
       "      <td>Port_Harcourt_Branch</td>\n",
       "      <td>C</td>\n",
       "      <td>Port Harcourt</td>\n",
       "      <td>Normal</td>\n",
       "      <td>Male</td>\n",
       "      <td>Electronic accessories</td>\n",
       "      <td>30740.4</td>\n",
       "      <td>7</td>\n",
       "      <td>10759.14</td>\n",
       "      <td>225941.94</td>\n",
       "      <td>2019-03-25</td>\n",
       "      <td>2021-05-19 18:30:00</td>\n",
       "      <td>Epay</td>\n",
       "      <td>215182.8</td>\n",
       "      <td>4.761905</td>\n",
       "      <td>10759.14</td>\n",
       "      <td>4.1</td>\n",
       "    </tr>\n",
       "    <tr>\n",
       "      <th>2</th>\n",
       "      <td>Port_Harcourt_Branch</td>\n",
       "      <td>C</td>\n",
       "      <td>Port Harcourt</td>\n",
       "      <td>Normal</td>\n",
       "      <td>Female</td>\n",
       "      <td>Home and lifestyle</td>\n",
       "      <td>26481.6</td>\n",
       "      <td>10</td>\n",
       "      <td>13240.80</td>\n",
       "      <td>278056.80</td>\n",
       "      <td>2019-02-24</td>\n",
       "      <td>2021-05-19 11:38:00</td>\n",
       "      <td>Epay</td>\n",
       "      <td>264816.0</td>\n",
       "      <td>4.761905</td>\n",
       "      <td>13240.80</td>\n",
       "      <td>8.0</td>\n",
       "    </tr>\n",
       "    <tr>\n",
       "      <th>3</th>\n",
       "      <td>Port_Harcourt_Branch</td>\n",
       "      <td>C</td>\n",
       "      <td>Port Harcourt</td>\n",
       "      <td>Member</td>\n",
       "      <td>Male</td>\n",
       "      <td>Electronic accessories</td>\n",
       "      <td>30974.4</td>\n",
       "      <td>5</td>\n",
       "      <td>7743.60</td>\n",
       "      <td>162615.60</td>\n",
       "      <td>2019-02-25</td>\n",
       "      <td>2021-05-19 11:24:00</td>\n",
       "      <td>Epay</td>\n",
       "      <td>154872.0</td>\n",
       "      <td>4.761905</td>\n",
       "      <td>7743.60</td>\n",
       "      <td>4.8</td>\n",
       "    </tr>\n",
       "    <tr>\n",
       "      <th>4</th>\n",
       "      <td>Port_Harcourt_Branch</td>\n",
       "      <td>C</td>\n",
       "      <td>Port Harcourt</td>\n",
       "      <td>Member</td>\n",
       "      <td>Female</td>\n",
       "      <td>Food and beverages</td>\n",
       "      <td>35791.2</td>\n",
       "      <td>4</td>\n",
       "      <td>7158.24</td>\n",
       "      <td>150323.04</td>\n",
       "      <td>2019-02-06</td>\n",
       "      <td>2021-05-19 10:42:00</td>\n",
       "      <td>Epay</td>\n",
       "      <td>143164.8</td>\n",
       "      <td>4.761905</td>\n",
       "      <td>7158.24</td>\n",
       "      <td>7.5</td>\n",
       "    </tr>\n",
       "  </tbody>\n",
       "</table>\n",
       "</div>"
      ],
      "text/plain": [
       "             Invoice ID Branch           City Customer type  Gender  \\\n",
       "0  Port_Harcourt_Branch      C  Port Harcourt        Normal  Female   \n",
       "1  Port_Harcourt_Branch      C  Port Harcourt        Normal    Male   \n",
       "2  Port_Harcourt_Branch      C  Port Harcourt        Normal  Female   \n",
       "3  Port_Harcourt_Branch      C  Port Harcourt        Member    Male   \n",
       "4  Port_Harcourt_Branch      C  Port Harcourt        Member  Female   \n",
       "\n",
       "             Product line  Unit price  Quantity    Tax 5%      Total  \\\n",
       "0  Electronic accessories      5500.8         5   1375.20   28879.20   \n",
       "1  Electronic accessories     30740.4         7  10759.14  225941.94   \n",
       "2      Home and lifestyle     26481.6        10  13240.80  278056.80   \n",
       "3  Electronic accessories     30974.4         5   7743.60  162615.60   \n",
       "4      Food and beverages     35791.2         4   7158.24  150323.04   \n",
       "\n",
       "        Date                Time Payment      cogs  gross margin percentage  \\\n",
       "0 2019-03-08 2021-05-19 10:29:00    Cash   27504.0                 4.761905   \n",
       "1 2019-03-25 2021-05-19 18:30:00    Epay  215182.8                 4.761905   \n",
       "2 2019-02-24 2021-05-19 11:38:00    Epay  264816.0                 4.761905   \n",
       "3 2019-02-25 2021-05-19 11:24:00    Epay  154872.0                 4.761905   \n",
       "4 2019-02-06 2021-05-19 10:42:00    Epay  143164.8                 4.761905   \n",
       "\n",
       "   gross income  Rating  \n",
       "0       1375.20     9.6  \n",
       "1      10759.14     4.1  \n",
       "2      13240.80     8.0  \n",
       "3       7743.60     4.8  \n",
       "4       7158.24     7.5  "
      ]
     },
     "execution_count": 23,
     "metadata": {},
     "output_type": "execute_result"
    }
   ],
   "source": [
    "data.head()"
   ]
  },
  {
   "cell_type": "code",
   "execution_count": 24,
   "id": "tropical-strand",
   "metadata": {},
   "outputs": [
    {
     "data": {
      "text/html": [
       "<div>\n",
       "<style scoped>\n",
       "    .dataframe tbody tr th:only-of-type {\n",
       "        vertical-align: middle;\n",
       "    }\n",
       "\n",
       "    .dataframe tbody tr th {\n",
       "        vertical-align: top;\n",
       "    }\n",
       "\n",
       "    .dataframe thead th {\n",
       "        text-align: right;\n",
       "    }\n",
       "</style>\n",
       "<table border=\"1\" class=\"dataframe\">\n",
       "  <thead>\n",
       "    <tr style=\"text-align: right;\">\n",
       "      <th></th>\n",
       "      <th>Unit price</th>\n",
       "      <th>Quantity</th>\n",
       "      <th>Tax 5%</th>\n",
       "      <th>Total</th>\n",
       "      <th>cogs</th>\n",
       "      <th>gross margin percentage</th>\n",
       "      <th>gross income</th>\n",
       "      <th>Rating</th>\n",
       "    </tr>\n",
       "    <tr>\n",
       "      <th>Date</th>\n",
       "      <th></th>\n",
       "      <th></th>\n",
       "      <th></th>\n",
       "      <th></th>\n",
       "      <th></th>\n",
       "      <th></th>\n",
       "      <th></th>\n",
       "      <th></th>\n",
       "    </tr>\n",
       "  </thead>\n",
       "  <tbody>\n",
       "    <tr>\n",
       "      <th>2019-01-01</th>\n",
       "      <td>19798.500000</td>\n",
       "      <td>6.750000</td>\n",
       "      <td>6778.830000</td>\n",
       "      <td>142355.430000</td>\n",
       "      <td>135576.600000</td>\n",
       "      <td>4.761905</td>\n",
       "      <td>6778.830000</td>\n",
       "      <td>6.583333</td>\n",
       "    </tr>\n",
       "    <tr>\n",
       "      <th>2019-01-02</th>\n",
       "      <td>16068.600000</td>\n",
       "      <td>6.000000</td>\n",
       "      <td>4168.935000</td>\n",
       "      <td>87547.635000</td>\n",
       "      <td>83378.700000</td>\n",
       "      <td>4.761905</td>\n",
       "      <td>4168.935000</td>\n",
       "      <td>6.050000</td>\n",
       "    </tr>\n",
       "    <tr>\n",
       "      <th>2019-01-03</th>\n",
       "      <td>21404.700000</td>\n",
       "      <td>4.625000</td>\n",
       "      <td>4453.132500</td>\n",
       "      <td>93515.782500</td>\n",
       "      <td>89062.650000</td>\n",
       "      <td>4.761905</td>\n",
       "      <td>4453.132500</td>\n",
       "      <td>8.112500</td>\n",
       "    </tr>\n",
       "    <tr>\n",
       "      <th>2019-01-04</th>\n",
       "      <td>18627.600000</td>\n",
       "      <td>5.333333</td>\n",
       "      <td>4639.110000</td>\n",
       "      <td>97421.310000</td>\n",
       "      <td>92782.200000</td>\n",
       "      <td>4.761905</td>\n",
       "      <td>4639.110000</td>\n",
       "      <td>6.516667</td>\n",
       "    </tr>\n",
       "    <tr>\n",
       "      <th>2019-01-05</th>\n",
       "      <td>22189.200000</td>\n",
       "      <td>4.583333</td>\n",
       "      <td>5052.405000</td>\n",
       "      <td>106100.505000</td>\n",
       "      <td>101048.100000</td>\n",
       "      <td>4.761905</td>\n",
       "      <td>5052.405000</td>\n",
       "      <td>7.433333</td>\n",
       "    </tr>\n",
       "    <tr>\n",
       "      <th>...</th>\n",
       "      <td>...</td>\n",
       "      <td>...</td>\n",
       "      <td>...</td>\n",
       "      <td>...</td>\n",
       "      <td>...</td>\n",
       "      <td>...</td>\n",
       "      <td>...</td>\n",
       "      <td>...</td>\n",
       "    </tr>\n",
       "    <tr>\n",
       "      <th>2019-03-26</th>\n",
       "      <td>15470.030769</td>\n",
       "      <td>4.000000</td>\n",
       "      <td>2587.929231</td>\n",
       "      <td>54346.513846</td>\n",
       "      <td>51758.584615</td>\n",
       "      <td>4.761905</td>\n",
       "      <td>2587.929231</td>\n",
       "      <td>6.623077</td>\n",
       "    </tr>\n",
       "    <tr>\n",
       "      <th>2019-03-27</th>\n",
       "      <td>20462.760000</td>\n",
       "      <td>4.500000</td>\n",
       "      <td>4976.262000</td>\n",
       "      <td>104501.502000</td>\n",
       "      <td>99525.240000</td>\n",
       "      <td>4.761905</td>\n",
       "      <td>4976.262000</td>\n",
       "      <td>6.760000</td>\n",
       "    </tr>\n",
       "    <tr>\n",
       "      <th>2019-03-28</th>\n",
       "      <td>16389.000000</td>\n",
       "      <td>4.800000</td>\n",
       "      <td>3821.832000</td>\n",
       "      <td>80258.472000</td>\n",
       "      <td>76436.640000</td>\n",
       "      <td>4.761905</td>\n",
       "      <td>3821.832000</td>\n",
       "      <td>7.050000</td>\n",
       "    </tr>\n",
       "    <tr>\n",
       "      <th>2019-03-29</th>\n",
       "      <td>23884.650000</td>\n",
       "      <td>6.750000</td>\n",
       "      <td>8621.235000</td>\n",
       "      <td>181045.935000</td>\n",
       "      <td>172424.700000</td>\n",
       "      <td>4.761905</td>\n",
       "      <td>8621.235000</td>\n",
       "      <td>6.925000</td>\n",
       "    </tr>\n",
       "    <tr>\n",
       "      <th>2019-03-30</th>\n",
       "      <td>24266.945455</td>\n",
       "      <td>6.090909</td>\n",
       "      <td>6992.820000</td>\n",
       "      <td>146849.220000</td>\n",
       "      <td>139856.400000</td>\n",
       "      <td>4.761905</td>\n",
       "      <td>6992.820000</td>\n",
       "      <td>6.800000</td>\n",
       "    </tr>\n",
       "  </tbody>\n",
       "</table>\n",
       "<p>89 rows × 8 columns</p>\n",
       "</div>"
      ],
      "text/plain": [
       "              Unit price  Quantity       Tax 5%          Total           cogs  \\\n",
       "Date                                                                            \n",
       "2019-01-01  19798.500000  6.750000  6778.830000  142355.430000  135576.600000   \n",
       "2019-01-02  16068.600000  6.000000  4168.935000   87547.635000   83378.700000   \n",
       "2019-01-03  21404.700000  4.625000  4453.132500   93515.782500   89062.650000   \n",
       "2019-01-04  18627.600000  5.333333  4639.110000   97421.310000   92782.200000   \n",
       "2019-01-05  22189.200000  4.583333  5052.405000  106100.505000  101048.100000   \n",
       "...                  ...       ...          ...            ...            ...   \n",
       "2019-03-26  15470.030769  4.000000  2587.929231   54346.513846   51758.584615   \n",
       "2019-03-27  20462.760000  4.500000  4976.262000  104501.502000   99525.240000   \n",
       "2019-03-28  16389.000000  4.800000  3821.832000   80258.472000   76436.640000   \n",
       "2019-03-29  23884.650000  6.750000  8621.235000  181045.935000  172424.700000   \n",
       "2019-03-30  24266.945455  6.090909  6992.820000  146849.220000  139856.400000   \n",
       "\n",
       "            gross margin percentage  gross income    Rating  \n",
       "Date                                                         \n",
       "2019-01-01                 4.761905   6778.830000  6.583333  \n",
       "2019-01-02                 4.761905   4168.935000  6.050000  \n",
       "2019-01-03                 4.761905   4453.132500  8.112500  \n",
       "2019-01-04                 4.761905   4639.110000  6.516667  \n",
       "2019-01-05                 4.761905   5052.405000  7.433333  \n",
       "...                             ...           ...       ...  \n",
       "2019-03-26                 4.761905   2587.929231  6.623077  \n",
       "2019-03-27                 4.761905   4976.262000  6.760000  \n",
       "2019-03-28                 4.761905   3821.832000  7.050000  \n",
       "2019-03-29                 4.761905   8621.235000  6.925000  \n",
       "2019-03-30                 4.761905   6992.820000  6.800000  \n",
       "\n",
       "[89 rows x 8 columns]"
      ]
     },
     "execution_count": 24,
     "metadata": {},
     "output_type": "execute_result"
    }
   ],
   "source": [
    "data.groupby('Date').agg('mean')"
   ]
  },
  {
   "cell_type": "markdown",
   "id": "level-native",
   "metadata": {},
   "source": [
    "### --> Accurate extraction of the Day, Month, Year & Hour features"
   ]
  },
  {
   "cell_type": "code",
   "execution_count": 25,
   "id": "sticky-patrol",
   "metadata": {},
   "outputs": [
    {
     "data": {
      "text/plain": [
       "dtype('<M8[ns]')"
      ]
     },
     "execution_count": 25,
     "metadata": {},
     "output_type": "execute_result"
    }
   ],
   "source": [
    "data.Time.dtype"
   ]
  },
  {
   "cell_type": "code",
   "execution_count": 26,
   "id": "statutory-mortality",
   "metadata": {
    "scrolled": true
   },
   "outputs": [],
   "source": [
    "data['Year']=data['Date'].dt.year\n",
    "data['Month']=data['Date'].dt.month\n",
    "data['Days']=data['Date'].dt.day\n",
    "data['Hours']=data['Time'].dt.hour"
   ]
  },
  {
   "cell_type": "markdown",
   "id": "authentic-centre",
   "metadata": {},
   "source": [
    "### --> The numbers of unique hours of sales in the supermarket are accurately determined."
   ]
  },
  {
   "cell_type": "code",
   "execution_count": 27,
   "id": "neither-pipeline",
   "metadata": {},
   "outputs": [
    {
     "data": {
      "text/plain": [
       "19    113\n",
       "13    103\n",
       "15    102\n",
       "10    101\n",
       "18     93\n",
       "11     90\n",
       "12     89\n",
       "14     83\n",
       "16     77\n",
       "20     75\n",
       "17     74\n",
       "Name: Hours, dtype: int64"
      ]
     },
     "execution_count": 27,
     "metadata": {},
     "output_type": "execute_result"
    }
   ],
   "source": [
    "data['Hours'].value_counts()"
   ]
  },
  {
   "cell_type": "code",
   "execution_count": 28,
   "id": "found-update",
   "metadata": {},
   "outputs": [
    {
     "data": {
      "text/plain": [
       "11"
      ]
     },
     "execution_count": 28,
     "metadata": {},
     "output_type": "execute_result"
    }
   ],
   "source": [
    "data['Hours'].nunique()"
   ]
  },
  {
   "cell_type": "markdown",
   "id": "searching-bristol",
   "metadata": {},
   "source": [
    "### --> Result that shows an array that contains the unique sales hours."
   ]
  },
  {
   "cell_type": "code",
   "execution_count": 29,
   "id": "laughing-routine",
   "metadata": {
    "scrolled": true
   },
   "outputs": [
    {
     "data": {
      "text/html": [
       "<div>\n",
       "<style scoped>\n",
       "    .dataframe tbody tr th:only-of-type {\n",
       "        vertical-align: middle;\n",
       "    }\n",
       "\n",
       "    .dataframe tbody tr th {\n",
       "        vertical-align: top;\n",
       "    }\n",
       "\n",
       "    .dataframe thead th {\n",
       "        text-align: right;\n",
       "    }\n",
       "</style>\n",
       "<table border=\"1\" class=\"dataframe\">\n",
       "  <thead>\n",
       "    <tr style=\"text-align: right;\">\n",
       "      <th></th>\n",
       "      <th>Hours</th>\n",
       "    </tr>\n",
       "  </thead>\n",
       "  <tbody>\n",
       "    <tr>\n",
       "      <th>19</th>\n",
       "      <td>113</td>\n",
       "    </tr>\n",
       "    <tr>\n",
       "      <th>13</th>\n",
       "      <td>103</td>\n",
       "    </tr>\n",
       "    <tr>\n",
       "      <th>15</th>\n",
       "      <td>102</td>\n",
       "    </tr>\n",
       "    <tr>\n",
       "      <th>10</th>\n",
       "      <td>101</td>\n",
       "    </tr>\n",
       "    <tr>\n",
       "      <th>18</th>\n",
       "      <td>93</td>\n",
       "    </tr>\n",
       "    <tr>\n",
       "      <th>11</th>\n",
       "      <td>90</td>\n",
       "    </tr>\n",
       "    <tr>\n",
       "      <th>12</th>\n",
       "      <td>89</td>\n",
       "    </tr>\n",
       "    <tr>\n",
       "      <th>14</th>\n",
       "      <td>83</td>\n",
       "    </tr>\n",
       "    <tr>\n",
       "      <th>16</th>\n",
       "      <td>77</td>\n",
       "    </tr>\n",
       "    <tr>\n",
       "      <th>20</th>\n",
       "      <td>75</td>\n",
       "    </tr>\n",
       "    <tr>\n",
       "      <th>17</th>\n",
       "      <td>74</td>\n",
       "    </tr>\n",
       "  </tbody>\n",
       "</table>\n",
       "</div>"
      ],
      "text/plain": [
       "    Hours\n",
       "19    113\n",
       "13    103\n",
       "15    102\n",
       "10    101\n",
       "18     93\n",
       "11     90\n",
       "12     89\n",
       "14     83\n",
       "16     77\n",
       "20     75\n",
       "17     74"
      ]
     },
     "execution_count": 29,
     "metadata": {},
     "output_type": "execute_result"
    }
   ],
   "source": [
    "hours=pd.DataFrame(data.Hours.value_counts())\n",
    "hours"
   ]
  },
  {
   "cell_type": "code",
   "execution_count": 30,
   "id": "coastal-musical",
   "metadata": {},
   "outputs": [
    {
     "data": {
      "text/plain": [
       "array([10, 18, 11, 12, 13, 20, 19, 17, 15, 16, 14], dtype=int64)"
      ]
     },
     "execution_count": 30,
     "metadata": {},
     "output_type": "execute_result"
    }
   ],
   "source": [
    "data.Hours.unique()"
   ]
  },
  {
   "cell_type": "code",
   "execution_count": 31,
   "id": "environmental-collar",
   "metadata": {},
   "outputs": [],
   "source": [
    "#data['Time']= data['Time'].dt.time"
   ]
  },
  {
   "cell_type": "code",
   "execution_count": 32,
   "id": "induced-electronics",
   "metadata": {},
   "outputs": [
    {
     "data": {
      "text/html": [
       "<div>\n",
       "<style scoped>\n",
       "    .dataframe tbody tr th:only-of-type {\n",
       "        vertical-align: middle;\n",
       "    }\n",
       "\n",
       "    .dataframe tbody tr th {\n",
       "        vertical-align: top;\n",
       "    }\n",
       "\n",
       "    .dataframe thead th {\n",
       "        text-align: right;\n",
       "    }\n",
       "</style>\n",
       "<table border=\"1\" class=\"dataframe\">\n",
       "  <thead>\n",
       "    <tr style=\"text-align: right;\">\n",
       "      <th></th>\n",
       "      <th>Invoice ID</th>\n",
       "      <th>Branch</th>\n",
       "      <th>City</th>\n",
       "      <th>Customer type</th>\n",
       "      <th>Gender</th>\n",
       "      <th>Product line</th>\n",
       "      <th>Unit price</th>\n",
       "      <th>Quantity</th>\n",
       "      <th>Tax 5%</th>\n",
       "      <th>Total</th>\n",
       "      <th>...</th>\n",
       "      <th>Time</th>\n",
       "      <th>Payment</th>\n",
       "      <th>cogs</th>\n",
       "      <th>gross margin percentage</th>\n",
       "      <th>gross income</th>\n",
       "      <th>Rating</th>\n",
       "      <th>Year</th>\n",
       "      <th>Month</th>\n",
       "      <th>Days</th>\n",
       "      <th>Hours</th>\n",
       "    </tr>\n",
       "  </thead>\n",
       "  <tbody>\n",
       "    <tr>\n",
       "      <th>0</th>\n",
       "      <td>Port_Harcourt_Branch</td>\n",
       "      <td>C</td>\n",
       "      <td>Port Harcourt</td>\n",
       "      <td>Normal</td>\n",
       "      <td>Female</td>\n",
       "      <td>Electronic accessories</td>\n",
       "      <td>5500.8</td>\n",
       "      <td>5</td>\n",
       "      <td>1375.20</td>\n",
       "      <td>28879.20</td>\n",
       "      <td>...</td>\n",
       "      <td>2021-05-19 10:29:00</td>\n",
       "      <td>Cash</td>\n",
       "      <td>27504.0</td>\n",
       "      <td>4.761905</td>\n",
       "      <td>1375.20</td>\n",
       "      <td>9.6</td>\n",
       "      <td>2019</td>\n",
       "      <td>3</td>\n",
       "      <td>8</td>\n",
       "      <td>10</td>\n",
       "    </tr>\n",
       "    <tr>\n",
       "      <th>1</th>\n",
       "      <td>Port_Harcourt_Branch</td>\n",
       "      <td>C</td>\n",
       "      <td>Port Harcourt</td>\n",
       "      <td>Normal</td>\n",
       "      <td>Male</td>\n",
       "      <td>Electronic accessories</td>\n",
       "      <td>30740.4</td>\n",
       "      <td>7</td>\n",
       "      <td>10759.14</td>\n",
       "      <td>225941.94</td>\n",
       "      <td>...</td>\n",
       "      <td>2021-05-19 18:30:00</td>\n",
       "      <td>Epay</td>\n",
       "      <td>215182.8</td>\n",
       "      <td>4.761905</td>\n",
       "      <td>10759.14</td>\n",
       "      <td>4.1</td>\n",
       "      <td>2019</td>\n",
       "      <td>3</td>\n",
       "      <td>25</td>\n",
       "      <td>18</td>\n",
       "    </tr>\n",
       "    <tr>\n",
       "      <th>2</th>\n",
       "      <td>Port_Harcourt_Branch</td>\n",
       "      <td>C</td>\n",
       "      <td>Port Harcourt</td>\n",
       "      <td>Normal</td>\n",
       "      <td>Female</td>\n",
       "      <td>Home and lifestyle</td>\n",
       "      <td>26481.6</td>\n",
       "      <td>10</td>\n",
       "      <td>13240.80</td>\n",
       "      <td>278056.80</td>\n",
       "      <td>...</td>\n",
       "      <td>2021-05-19 11:38:00</td>\n",
       "      <td>Epay</td>\n",
       "      <td>264816.0</td>\n",
       "      <td>4.761905</td>\n",
       "      <td>13240.80</td>\n",
       "      <td>8.0</td>\n",
       "      <td>2019</td>\n",
       "      <td>2</td>\n",
       "      <td>24</td>\n",
       "      <td>11</td>\n",
       "    </tr>\n",
       "    <tr>\n",
       "      <th>3</th>\n",
       "      <td>Port_Harcourt_Branch</td>\n",
       "      <td>C</td>\n",
       "      <td>Port Harcourt</td>\n",
       "      <td>Member</td>\n",
       "      <td>Male</td>\n",
       "      <td>Electronic accessories</td>\n",
       "      <td>30974.4</td>\n",
       "      <td>5</td>\n",
       "      <td>7743.60</td>\n",
       "      <td>162615.60</td>\n",
       "      <td>...</td>\n",
       "      <td>2021-05-19 11:24:00</td>\n",
       "      <td>Epay</td>\n",
       "      <td>154872.0</td>\n",
       "      <td>4.761905</td>\n",
       "      <td>7743.60</td>\n",
       "      <td>4.8</td>\n",
       "      <td>2019</td>\n",
       "      <td>2</td>\n",
       "      <td>25</td>\n",
       "      <td>11</td>\n",
       "    </tr>\n",
       "    <tr>\n",
       "      <th>4</th>\n",
       "      <td>Port_Harcourt_Branch</td>\n",
       "      <td>C</td>\n",
       "      <td>Port Harcourt</td>\n",
       "      <td>Member</td>\n",
       "      <td>Female</td>\n",
       "      <td>Food and beverages</td>\n",
       "      <td>35791.2</td>\n",
       "      <td>4</td>\n",
       "      <td>7158.24</td>\n",
       "      <td>150323.04</td>\n",
       "      <td>...</td>\n",
       "      <td>2021-05-19 10:42:00</td>\n",
       "      <td>Epay</td>\n",
       "      <td>143164.8</td>\n",
       "      <td>4.761905</td>\n",
       "      <td>7158.24</td>\n",
       "      <td>7.5</td>\n",
       "      <td>2019</td>\n",
       "      <td>2</td>\n",
       "      <td>6</td>\n",
       "      <td>10</td>\n",
       "    </tr>\n",
       "  </tbody>\n",
       "</table>\n",
       "<p>5 rows × 21 columns</p>\n",
       "</div>"
      ],
      "text/plain": [
       "             Invoice ID Branch           City Customer type  Gender  \\\n",
       "0  Port_Harcourt_Branch      C  Port Harcourt        Normal  Female   \n",
       "1  Port_Harcourt_Branch      C  Port Harcourt        Normal    Male   \n",
       "2  Port_Harcourt_Branch      C  Port Harcourt        Normal  Female   \n",
       "3  Port_Harcourt_Branch      C  Port Harcourt        Member    Male   \n",
       "4  Port_Harcourt_Branch      C  Port Harcourt        Member  Female   \n",
       "\n",
       "             Product line  Unit price  Quantity    Tax 5%      Total  ...  \\\n",
       "0  Electronic accessories      5500.8         5   1375.20   28879.20  ...   \n",
       "1  Electronic accessories     30740.4         7  10759.14  225941.94  ...   \n",
       "2      Home and lifestyle     26481.6        10  13240.80  278056.80  ...   \n",
       "3  Electronic accessories     30974.4         5   7743.60  162615.60  ...   \n",
       "4      Food and beverages     35791.2         4   7158.24  150323.04  ...   \n",
       "\n",
       "                 Time Payment      cogs  gross margin percentage  \\\n",
       "0 2021-05-19 10:29:00    Cash   27504.0                 4.761905   \n",
       "1 2021-05-19 18:30:00    Epay  215182.8                 4.761905   \n",
       "2 2021-05-19 11:38:00    Epay  264816.0                 4.761905   \n",
       "3 2021-05-19 11:24:00    Epay  154872.0                 4.761905   \n",
       "4 2021-05-19 10:42:00    Epay  143164.8                 4.761905   \n",
       "\n",
       "   gross income  Rating  Year  Month  Days  Hours  \n",
       "0       1375.20     9.6  2019      3     8     10  \n",
       "1      10759.14     4.1  2019      3    25     18  \n",
       "2      13240.80     8.0  2019      2    24     11  \n",
       "3       7743.60     4.8  2019      2    25     11  \n",
       "4       7158.24     7.5  2019      2     6     10  \n",
       "\n",
       "[5 rows x 21 columns]"
      ]
     },
     "execution_count": 32,
     "metadata": {},
     "output_type": "execute_result"
    }
   ],
   "source": [
    "data.head()"
   ]
  },
  {
   "cell_type": "code",
   "execution_count": 33,
   "id": "smooth-digest",
   "metadata": {},
   "outputs": [
    {
     "name": "stdout",
     "output_type": "stream",
     "text": [
      "<class 'pandas.core.frame.DataFrame'>\n",
      "RangeIndex: 1000 entries, 0 to 999\n",
      "Data columns (total 21 columns):\n",
      " #   Column                   Non-Null Count  Dtype         \n",
      "---  ------                   --------------  -----         \n",
      " 0   Invoice ID               1000 non-null   object        \n",
      " 1   Branch                   1000 non-null   object        \n",
      " 2   City                     1000 non-null   object        \n",
      " 3   Customer type            1000 non-null   object        \n",
      " 4   Gender                   1000 non-null   object        \n",
      " 5   Product line             1000 non-null   object        \n",
      " 6   Unit price               1000 non-null   float64       \n",
      " 7   Quantity                 1000 non-null   int64         \n",
      " 8   Tax 5%                   1000 non-null   float64       \n",
      " 9   Total                    1000 non-null   float64       \n",
      " 10  Date                     1000 non-null   datetime64[ns]\n",
      " 11  Time                     1000 non-null   datetime64[ns]\n",
      " 12  Payment                  1000 non-null   object        \n",
      " 13  cogs                     1000 non-null   float64       \n",
      " 14  gross margin percentage  1000 non-null   float64       \n",
      " 15  gross income             1000 non-null   float64       \n",
      " 16  Rating                   1000 non-null   float64       \n",
      " 17  Year                     1000 non-null   int64         \n",
      " 18  Month                    1000 non-null   int64         \n",
      " 19  Days                     1000 non-null   int64         \n",
      " 20  Hours                    1000 non-null   int64         \n",
      "dtypes: datetime64[ns](2), float64(7), int64(5), object(7)\n",
      "memory usage: 136.8+ KB\n"
     ]
    }
   ],
   "source": [
    "data.info()"
   ]
  },
  {
   "cell_type": "markdown",
   "id": "cloudy-support",
   "metadata": {},
   "source": [
    "## Step 4 - Unique Values in Columns"
   ]
  },
  {
   "cell_type": "markdown",
   "id": "daily-tuner",
   "metadata": {},
   "source": [
    "### --> Appropriate method to generate the unique values in the categorical columns (apart from the example - Branch column)."
   ]
  },
  {
   "cell_type": "code",
   "execution_count": 34,
   "id": "careful-understanding",
   "metadata": {
    "scrolled": true
   },
   "outputs": [
    {
     "data": {
      "text/plain": [
       "Invoice ID                   3\n",
       "Branch                       3\n",
       "City                         3\n",
       "Customer type                2\n",
       "Gender                       2\n",
       "Product line                 6\n",
       "Unit price                 943\n",
       "Quantity                    10\n",
       "Tax 5%                     990\n",
       "Total                      990\n",
       "Date                        89\n",
       "Time                       506\n",
       "Payment                      3\n",
       "cogs                       990\n",
       "gross margin percentage      1\n",
       "gross income               990\n",
       "Rating                      61\n",
       "Year                         1\n",
       "Month                        3\n",
       "Days                        31\n",
       "Hours                       11\n",
       "dtype: int64"
      ]
     },
     "execution_count": 34,
     "metadata": {},
     "output_type": "execute_result"
    }
   ],
   "source": [
    "data.nunique()"
   ]
  },
  {
   "cell_type": "markdown",
   "id": "stylish-large",
   "metadata": {},
   "source": [
    "### --> Generated the count figure of the categorical values using the value_counts() method."
   ]
  },
  {
   "cell_type": "code",
   "execution_count": 35,
   "id": "cellular-truth",
   "metadata": {
    "scrolled": true
   },
   "outputs": [
    {
     "data": {
      "text/plain": [
       "City             3\n",
       "Customer type    2\n",
       "Gender           2\n",
       "Product line     6\n",
       "Payment          3\n",
       "dtype: int64"
      ]
     },
     "execution_count": 35,
     "metadata": {},
     "output_type": "execute_result"
    }
   ],
   "source": [
    "cat_col=['City','Customer type','Gender','Product line','Payment']\n",
    "data[cat_col].nunique()"
   ]
  },
  {
   "cell_type": "code",
   "execution_count": 36,
   "id": "cheap-designation",
   "metadata": {
    "scrolled": true
   },
   "outputs": [
    {
     "name": "stdout",
     "output_type": "stream",
     "text": [
      "['Port Harcourt' 'Lagos' 'Abuja']\n",
      "['Normal' 'Member']\n",
      "['Female' 'Male']\n",
      "['Electronic accessories' 'Home and lifestyle' 'Food and beverages'\n",
      " 'Sports and travel' 'Health and beauty' 'Fashion accessories']\n",
      "['Cash' 'Epay' 'Card']\n"
     ]
    }
   ],
   "source": [
    "for col in data[cat_col]:\n",
    "    print(data[col].unique())"
   ]
  },
  {
   "cell_type": "code",
   "execution_count": 37,
   "id": "stretch-belgium",
   "metadata": {
    "scrolled": true
   },
   "outputs": [
    {
     "name": "stdout",
     "output_type": "stream",
     "text": [
      "Lagos_Branch            340\n",
      "Abuja_Branch            332\n",
      "Port_Harcourt_Branch    328\n",
      "Name: Invoice ID, dtype: int64\n",
      "A    340\n",
      "B    332\n",
      "C    328\n",
      "Name: Branch, dtype: int64\n",
      "Lagos            340\n",
      "Abuja            332\n",
      "Port Harcourt    328\n",
      "Name: City, dtype: int64\n",
      "Member    501\n",
      "Normal    499\n",
      "Name: Customer type, dtype: int64\n",
      "Female    501\n",
      "Male      499\n",
      "Name: Gender, dtype: int64\n",
      "Fashion accessories       178\n",
      "Food and beverages        174\n",
      "Electronic accessories    170\n",
      "Sports and travel         166\n",
      "Home and lifestyle        160\n",
      "Health and beauty         152\n",
      "Name: Product line, dtype: int64\n",
      "30157.2    3\n",
      "9453.6     2\n",
      "13089.6    2\n",
      "18698.4    2\n",
      "8906.4     2\n",
      "          ..\n",
      "16837.2    1\n",
      "19569.6    1\n",
      "21153.6    1\n",
      "18334.8    1\n",
      "11808.0    1\n",
      "Name: Unit price, Length: 943, dtype: int64\n",
      "10    119\n",
      "1     112\n",
      "4     109\n",
      "7     102\n",
      "5     102\n",
      "6      98\n",
      "9      92\n",
      "2      91\n",
      "3      90\n",
      "8      85\n",
      "Name: Quantity, dtype: int64\n",
      "3717.36    2\n",
      "8074.08    2\n",
      "3730.86    2\n",
      "1495.44    2\n",
      "3241.62    2\n",
      "          ..\n",
      "4582.98    1\n",
      "2367.90    1\n",
      "4800.60    1\n",
      "1281.60    1\n",
      "5904.00    1\n",
      "Name: Tax 5%, Length: 990, dtype: int64\n",
      "99701.28     2\n",
      "31404.24     2\n",
      "169555.68    2\n",
      "63330.12     2\n",
      "33747.84     2\n",
      "            ..\n",
      "38631.60     1\n",
      "121160.34    1\n",
      "25303.32     1\n",
      "66633.84     1\n",
      "272220.48    1\n",
      "Name: Total, Length: 990, dtype: int64\n",
      "2019-02-07    20\n",
      "2019-02-15    19\n",
      "2019-01-08    18\n",
      "2019-03-02    18\n",
      "2019-03-14    18\n",
      "              ..\n",
      "2019-03-17     6\n",
      "2019-02-01     6\n",
      "2019-01-04     6\n",
      "2019-03-21     6\n",
      "2019-02-21     6\n",
      "Name: Date, Length: 89, dtype: int64\n",
      "2021-05-19 19:48:00    7\n",
      "2021-05-19 14:42:00    7\n",
      "2021-05-19 17:38:00    6\n",
      "2021-05-19 19:30:00    5\n",
      "2021-05-19 19:20:00    5\n",
      "                      ..\n",
      "2021-05-19 13:49:00    1\n",
      "2021-05-19 16:16:00    1\n",
      "2021-05-19 13:50:00    1\n",
      "2021-05-19 16:17:00    1\n",
      "2021-05-19 17:30:00    1\n",
      "Name: Time, Length: 506, dtype: int64\n",
      "Epay    345\n",
      "Cash    344\n",
      "Card    311\n",
      "Name: Payment, dtype: int64\n",
      "90504.0     2\n",
      "161481.6    2\n",
      "94953.6     2\n",
      "32140.8     2\n",
      "64832.4     2\n",
      "           ..\n",
      "24537.6     1\n",
      "46440.0     1\n",
      "74462.4     1\n",
      "92772.0     1\n",
      "258048.0    1\n",
      "Name: cogs, Length: 990, dtype: int64\n",
      "4.761905    1000\n",
      "Name: gross margin percentage, dtype: int64\n",
      "3717.36    2\n",
      "8074.08    2\n",
      "3730.86    2\n",
      "1495.44    2\n",
      "3241.62    2\n",
      "          ..\n",
      "4582.98    1\n",
      "2367.90    1\n",
      "4800.60    1\n",
      "1281.60    1\n",
      "5904.00    1\n",
      "Name: gross income, Length: 990, dtype: int64\n",
      "6.0     26\n",
      "6.6     24\n",
      "9.5     22\n",
      "4.2     22\n",
      "8.0     21\n",
      "        ..\n",
      "4.0     11\n",
      "8.3     11\n",
      "5.3     11\n",
      "4.6      8\n",
      "10.0     5\n",
      "Name: Rating, Length: 61, dtype: int64\n",
      "2019    1000\n",
      "Name: Year, dtype: int64\n",
      "1    352\n",
      "3    345\n",
      "2    303\n",
      "Name: Month, dtype: int64\n",
      "15    44\n",
      "25    42\n",
      "19    41\n",
      "5     41\n",
      "8     41\n",
      "2     40\n",
      "26    39\n",
      "14    39\n",
      "7     38\n",
      "27    38\n",
      "9     37\n",
      "23    36\n",
      "3     36\n",
      "20    35\n",
      "24    33\n",
      "6     33\n",
      "10    32\n",
      "12    31\n",
      "17    30\n",
      "28    30\n",
      "4     29\n",
      "13    28\n",
      "22    28\n",
      "1     28\n",
      "16    27\n",
      "11    27\n",
      "18    23\n",
      "30    20\n",
      "21    20\n",
      "29    20\n",
      "31    14\n",
      "Name: Days, dtype: int64\n",
      "19    113\n",
      "13    103\n",
      "15    102\n",
      "10    101\n",
      "18     93\n",
      "11     90\n",
      "12     89\n",
      "14     83\n",
      "16     77\n",
      "20     75\n",
      "17     74\n",
      "Name: Hours, dtype: int64\n"
     ]
    }
   ],
   "source": [
    "for col in data.columns:\n",
    "    print(data[col].value_counts())"
   ]
  },
  {
   "cell_type": "markdown",
   "id": "ranging-maryland",
   "metadata": {},
   "source": [
    "## Step 5 - Aggregation with GroupBy\n",
    "### --> A groupby object with the \"City Column\", and aggregation function of sum and mean."
   ]
  },
  {
   "cell_type": "code",
   "execution_count": 38,
   "id": "verbal-fetish",
   "metadata": {
    "scrolled": true
   },
   "outputs": [
    {
     "data": {
      "text/html": [
       "<div>\n",
       "<style scoped>\n",
       "    .dataframe tbody tr th:only-of-type {\n",
       "        vertical-align: middle;\n",
       "    }\n",
       "\n",
       "    .dataframe tbody tr th {\n",
       "        vertical-align: top;\n",
       "    }\n",
       "\n",
       "    .dataframe thead tr th {\n",
       "        text-align: left;\n",
       "    }\n",
       "\n",
       "    .dataframe thead tr:last-of-type th {\n",
       "        text-align: right;\n",
       "    }\n",
       "</style>\n",
       "<table border=\"1\" class=\"dataframe\">\n",
       "  <thead>\n",
       "    <tr>\n",
       "      <th></th>\n",
       "      <th colspan=\"2\" halign=\"left\">Unit price</th>\n",
       "      <th colspan=\"2\" halign=\"left\">Quantity</th>\n",
       "      <th colspan=\"2\" halign=\"left\">Tax 5%</th>\n",
       "      <th colspan=\"2\" halign=\"left\">Total</th>\n",
       "      <th colspan=\"2\" halign=\"left\">cogs</th>\n",
       "      <th>...</th>\n",
       "      <th colspan=\"2\" halign=\"left\">Rating</th>\n",
       "      <th colspan=\"2\" halign=\"left\">Year</th>\n",
       "      <th colspan=\"2\" halign=\"left\">Month</th>\n",
       "      <th colspan=\"2\" halign=\"left\">Days</th>\n",
       "      <th colspan=\"2\" halign=\"left\">Hours</th>\n",
       "    </tr>\n",
       "    <tr>\n",
       "      <th></th>\n",
       "      <th>sum</th>\n",
       "      <th>mean</th>\n",
       "      <th>sum</th>\n",
       "      <th>mean</th>\n",
       "      <th>sum</th>\n",
       "      <th>mean</th>\n",
       "      <th>sum</th>\n",
       "      <th>mean</th>\n",
       "      <th>sum</th>\n",
       "      <th>mean</th>\n",
       "      <th>...</th>\n",
       "      <th>sum</th>\n",
       "      <th>mean</th>\n",
       "      <th>sum</th>\n",
       "      <th>mean</th>\n",
       "      <th>sum</th>\n",
       "      <th>mean</th>\n",
       "      <th>sum</th>\n",
       "      <th>mean</th>\n",
       "      <th>sum</th>\n",
       "      <th>mean</th>\n",
       "    </tr>\n",
       "    <tr>\n",
       "      <th>City</th>\n",
       "      <th></th>\n",
       "      <th></th>\n",
       "      <th></th>\n",
       "      <th></th>\n",
       "      <th></th>\n",
       "      <th></th>\n",
       "      <th></th>\n",
       "      <th></th>\n",
       "      <th></th>\n",
       "      <th></th>\n",
       "      <th></th>\n",
       "      <th></th>\n",
       "      <th></th>\n",
       "      <th></th>\n",
       "      <th></th>\n",
       "      <th></th>\n",
       "      <th></th>\n",
       "      <th></th>\n",
       "      <th></th>\n",
       "      <th></th>\n",
       "      <th></th>\n",
       "    </tr>\n",
       "  </thead>\n",
       "  <tbody>\n",
       "    <tr>\n",
       "      <th>Abuja</th>\n",
       "      <td>6652396.8</td>\n",
       "      <td>20037.339759</td>\n",
       "      <td>1820</td>\n",
       "      <td>5.481928</td>\n",
       "      <td>1820531.52</td>\n",
       "      <td>5483.528675</td>\n",
       "      <td>38231161.92</td>\n",
       "      <td>115154.102169</td>\n",
       "      <td>36410630.4</td>\n",
       "      <td>109670.573494</td>\n",
       "      <td>...</td>\n",
       "      <td>2263.6</td>\n",
       "      <td>6.818072</td>\n",
       "      <td>670308</td>\n",
       "      <td>2019</td>\n",
       "      <td>665</td>\n",
       "      <td>2.003012</td>\n",
       "      <td>5068</td>\n",
       "      <td>15.265060</td>\n",
       "      <td>5029</td>\n",
       "      <td>15.147590</td>\n",
       "    </tr>\n",
       "    <tr>\n",
       "      <th>Lagos</th>\n",
       "      <td>6705176.4</td>\n",
       "      <td>19721.107059</td>\n",
       "      <td>1859</td>\n",
       "      <td>5.467647</td>\n",
       "      <td>1820577.78</td>\n",
       "      <td>5354.640529</td>\n",
       "      <td>38232133.38</td>\n",
       "      <td>112447.451118</td>\n",
       "      <td>36411555.6</td>\n",
       "      <td>107092.810588</td>\n",
       "      <td>...</td>\n",
       "      <td>2389.2</td>\n",
       "      <td>7.027059</td>\n",
       "      <td>686460</td>\n",
       "      <td>2019</td>\n",
       "      <td>688</td>\n",
       "      <td>2.023529</td>\n",
       "      <td>5232</td>\n",
       "      <td>15.388235</td>\n",
       "      <td>4987</td>\n",
       "      <td>14.667647</td>\n",
       "    </tr>\n",
       "    <tr>\n",
       "      <th>Port Harcourt</th>\n",
       "      <td>6684393.6</td>\n",
       "      <td>20379.248780</td>\n",
       "      <td>1831</td>\n",
       "      <td>5.582317</td>\n",
       "      <td>1895463.54</td>\n",
       "      <td>5778.852256</td>\n",
       "      <td>39804734.34</td>\n",
       "      <td>121355.897378</td>\n",
       "      <td>37909270.8</td>\n",
       "      <td>115577.045122</td>\n",
       "      <td>...</td>\n",
       "      <td>2319.9</td>\n",
       "      <td>7.072866</td>\n",
       "      <td>662232</td>\n",
       "      <td>2019</td>\n",
       "      <td>640</td>\n",
       "      <td>1.951220</td>\n",
       "      <td>4956</td>\n",
       "      <td>15.109756</td>\n",
       "      <td>4894</td>\n",
       "      <td>14.920732</td>\n",
       "    </tr>\n",
       "  </tbody>\n",
       "</table>\n",
       "<p>3 rows × 24 columns</p>\n",
       "</div>"
      ],
      "text/plain": [
       "              Unit price               Quantity                Tax 5%  \\\n",
       "                     sum          mean      sum      mean         sum   \n",
       "City                                                                    \n",
       "Abuja          6652396.8  20037.339759     1820  5.481928  1820531.52   \n",
       "Lagos          6705176.4  19721.107059     1859  5.467647  1820577.78   \n",
       "Port Harcourt  6684393.6  20379.248780     1831  5.582317  1895463.54   \n",
       "\n",
       "                                  Total                       cogs  \\\n",
       "                      mean          sum           mean         sum   \n",
       "City                                                                 \n",
       "Abuja          5483.528675  38231161.92  115154.102169  36410630.4   \n",
       "Lagos          5354.640529  38232133.38  112447.451118  36411555.6   \n",
       "Port Harcourt  5778.852256  39804734.34  121355.897378  37909270.8   \n",
       "\n",
       "                              ...  Rating              Year       Month  \\\n",
       "                        mean  ...     sum      mean     sum  mean   sum   \n",
       "City                          ...                                         \n",
       "Abuja          109670.573494  ...  2263.6  6.818072  670308  2019   665   \n",
       "Lagos          107092.810588  ...  2389.2  7.027059  686460  2019   688   \n",
       "Port Harcourt  115577.045122  ...  2319.9  7.072866  662232  2019   640   \n",
       "\n",
       "                         Days            Hours             \n",
       "                   mean   sum       mean   sum       mean  \n",
       "City                                                       \n",
       "Abuja          2.003012  5068  15.265060  5029  15.147590  \n",
       "Lagos          2.023529  5232  15.388235  4987  14.667647  \n",
       "Port Harcourt  1.951220  4956  15.109756  4894  14.920732  \n",
       "\n",
       "[3 rows x 24 columns]"
      ]
     },
     "execution_count": 38,
     "metadata": {},
     "output_type": "execute_result"
    }
   ],
   "source": [
    "data.groupby('City').aggregate(['sum','mean'])"
   ]
  },
  {
   "cell_type": "markdown",
   "id": "coral-garbage",
   "metadata": {},
   "source": [
    "### --> A table that shows the gross income of each city, and determines the city with the highest total gross income."
   ]
  },
  {
   "cell_type": "code",
   "execution_count": 39,
   "id": "minus-pennsylvania",
   "metadata": {
    "scrolled": true
   },
   "outputs": [
    {
     "data": {
      "text/html": [
       "<div>\n",
       "<style scoped>\n",
       "    .dataframe tbody tr th:only-of-type {\n",
       "        vertical-align: middle;\n",
       "    }\n",
       "\n",
       "    .dataframe tbody tr th {\n",
       "        vertical-align: top;\n",
       "    }\n",
       "\n",
       "    .dataframe thead th {\n",
       "        text-align: right;\n",
       "    }\n",
       "</style>\n",
       "<table border=\"1\" class=\"dataframe\">\n",
       "  <thead>\n",
       "    <tr style=\"text-align: right;\">\n",
       "      <th></th>\n",
       "      <th>sum</th>\n",
       "      <th>mean</th>\n",
       "    </tr>\n",
       "    <tr>\n",
       "      <th>City</th>\n",
       "      <th></th>\n",
       "      <th></th>\n",
       "    </tr>\n",
       "  </thead>\n",
       "  <tbody>\n",
       "    <tr>\n",
       "      <th>Abuja</th>\n",
       "      <td>1820531.52</td>\n",
       "      <td>5483.528675</td>\n",
       "    </tr>\n",
       "    <tr>\n",
       "      <th>Lagos</th>\n",
       "      <td>1820577.78</td>\n",
       "      <td>5354.640529</td>\n",
       "    </tr>\n",
       "    <tr>\n",
       "      <th>Port Harcourt</th>\n",
       "      <td>1895463.54</td>\n",
       "      <td>5778.852256</td>\n",
       "    </tr>\n",
       "  </tbody>\n",
       "</table>\n",
       "</div>"
      ],
      "text/plain": [
       "                      sum         mean\n",
       "City                                  \n",
       "Abuja          1820531.52  5483.528675\n",
       "Lagos          1820577.78  5354.640529\n",
       "Port Harcourt  1895463.54  5778.852256"
      ]
     },
     "execution_count": 39,
     "metadata": {},
     "output_type": "execute_result"
    }
   ],
   "source": [
    "data.groupby('City')['gross income'].aggregate(['sum','mean'])"
   ]
  },
  {
   "cell_type": "markdown",
   "id": "finished-therapy",
   "metadata": {},
   "source": [
    "We can say inferentially that Port Harcourt has the highest total gross income with Abuja being the second and then Lagos."
   ]
  },
  {
   "cell_type": "markdown",
   "id": "mexican-packing",
   "metadata": {},
   "source": [
    "### --> Optional - Use of appropriate methods & descriptions to explore other columns such as Unit Price, Quantity."
   ]
  },
  {
   "cell_type": "markdown",
   "id": "related-finish",
   "metadata": {},
   "source": [
    "## Date Analysis"
   ]
  },
  {
   "cell_type": "code",
   "execution_count": 40,
   "id": "secret-engineering",
   "metadata": {
    "scrolled": false
   },
   "outputs": [
    {
     "data": {
      "text/html": [
       "<div>\n",
       "<style scoped>\n",
       "    .dataframe tbody tr th:only-of-type {\n",
       "        vertical-align: middle;\n",
       "    }\n",
       "\n",
       "    .dataframe tbody tr th {\n",
       "        vertical-align: top;\n",
       "    }\n",
       "\n",
       "    .dataframe thead th {\n",
       "        text-align: right;\n",
       "    }\n",
       "</style>\n",
       "<table border=\"1\" class=\"dataframe\">\n",
       "  <thead>\n",
       "    <tr style=\"text-align: right;\">\n",
       "      <th></th>\n",
       "      <th>Unit price</th>\n",
       "      <th>Quantity</th>\n",
       "      <th>Tax 5%</th>\n",
       "      <th>Total</th>\n",
       "      <th>cogs</th>\n",
       "      <th>gross margin percentage</th>\n",
       "      <th>gross income</th>\n",
       "      <th>Rating</th>\n",
       "      <th>Year</th>\n",
       "      <th>Days</th>\n",
       "      <th>Hours</th>\n",
       "    </tr>\n",
       "    <tr>\n",
       "      <th>Month</th>\n",
       "      <th></th>\n",
       "      <th></th>\n",
       "      <th></th>\n",
       "      <th></th>\n",
       "      <th></th>\n",
       "      <th></th>\n",
       "      <th></th>\n",
       "      <th></th>\n",
       "      <th></th>\n",
       "      <th></th>\n",
       "      <th></th>\n",
       "    </tr>\n",
       "  </thead>\n",
       "  <tbody>\n",
       "    <tr>\n",
       "      <th>1</th>\n",
       "      <td>20202.842045</td>\n",
       "      <td>5.582386</td>\n",
       "      <td>5663.565000</td>\n",
       "      <td>118934.865000</td>\n",
       "      <td>113271.300000</td>\n",
       "      <td>4.761905</td>\n",
       "      <td>5663.565000</td>\n",
       "      <td>7.017614</td>\n",
       "      <td>2019.0</td>\n",
       "      <td>17.082386</td>\n",
       "      <td>14.815341</td>\n",
       "    </tr>\n",
       "    <tr>\n",
       "      <th>2</th>\n",
       "      <td>20387.548515</td>\n",
       "      <td>5.458746</td>\n",
       "      <td>5500.388911</td>\n",
       "      <td>115508.167129</td>\n",
       "      <td>110007.778218</td>\n",
       "      <td>4.761905</td>\n",
       "      <td>5500.388911</td>\n",
       "      <td>7.071287</td>\n",
       "      <td>2019.0</td>\n",
       "      <td>13.861386</td>\n",
       "      <td>14.745875</td>\n",
       "    </tr>\n",
       "    <tr>\n",
       "      <th>3</th>\n",
       "      <td>19574.316522</td>\n",
       "      <td>5.481159</td>\n",
       "      <td>5438.782957</td>\n",
       "      <td>114214.442087</td>\n",
       "      <td>108775.659130</td>\n",
       "      <td>4.761905</td>\n",
       "      <td>5438.782957</td>\n",
       "      <td>6.840290</td>\n",
       "      <td>2019.0</td>\n",
       "      <td>14.617391</td>\n",
       "      <td>15.150725</td>\n",
       "    </tr>\n",
       "  </tbody>\n",
       "</table>\n",
       "</div>"
      ],
      "text/plain": [
       "         Unit price  Quantity       Tax 5%          Total           cogs  \\\n",
       "Month                                                                      \n",
       "1      20202.842045  5.582386  5663.565000  118934.865000  113271.300000   \n",
       "2      20387.548515  5.458746  5500.388911  115508.167129  110007.778218   \n",
       "3      19574.316522  5.481159  5438.782957  114214.442087  108775.659130   \n",
       "\n",
       "       gross margin percentage  gross income    Rating    Year       Days  \\\n",
       "Month                                                                       \n",
       "1                     4.761905   5663.565000  7.017614  2019.0  17.082386   \n",
       "2                     4.761905   5500.388911  7.071287  2019.0  13.861386   \n",
       "3                     4.761905   5438.782957  6.840290  2019.0  14.617391   \n",
       "\n",
       "           Hours  \n",
       "Month             \n",
       "1      14.815341  \n",
       "2      14.745875  \n",
       "3      15.150725  "
      ]
     },
     "execution_count": 40,
     "metadata": {},
     "output_type": "execute_result"
    }
   ],
   "source": [
    "data.groupby('Month').agg('mean')"
   ]
  },
  {
   "cell_type": "markdown",
   "id": "broke-disabled",
   "metadata": {},
   "source": [
    "From this we observe that the month with the highest total sale is January, but the ratings were higher as at February and extremely low by March "
   ]
  },
  {
   "cell_type": "code",
   "execution_count": 41,
   "id": "immediate-specific",
   "metadata": {
    "scrolled": true
   },
   "outputs": [
    {
     "data": {
      "text/html": [
       "<div>\n",
       "<style scoped>\n",
       "    .dataframe tbody tr th:only-of-type {\n",
       "        vertical-align: middle;\n",
       "    }\n",
       "\n",
       "    .dataframe tbody tr th {\n",
       "        vertical-align: top;\n",
       "    }\n",
       "\n",
       "    .dataframe thead th {\n",
       "        text-align: right;\n",
       "    }\n",
       "</style>\n",
       "<table border=\"1\" class=\"dataframe\">\n",
       "  <thead>\n",
       "    <tr style=\"text-align: right;\">\n",
       "      <th></th>\n",
       "      <th></th>\n",
       "      <th>Unit price</th>\n",
       "      <th>Quantity</th>\n",
       "      <th>Tax 5%</th>\n",
       "      <th>Total</th>\n",
       "      <th>cogs</th>\n",
       "      <th>gross margin percentage</th>\n",
       "      <th>gross income</th>\n",
       "      <th>Rating</th>\n",
       "      <th>Year</th>\n",
       "      <th>Days</th>\n",
       "      <th>Hours</th>\n",
       "    </tr>\n",
       "    <tr>\n",
       "      <th>Month</th>\n",
       "      <th>Branch</th>\n",
       "      <th></th>\n",
       "      <th></th>\n",
       "      <th></th>\n",
       "      <th></th>\n",
       "      <th></th>\n",
       "      <th></th>\n",
       "      <th></th>\n",
       "      <th></th>\n",
       "      <th></th>\n",
       "      <th></th>\n",
       "      <th></th>\n",
       "    </tr>\n",
       "  </thead>\n",
       "  <tbody>\n",
       "    <tr>\n",
       "      <th rowspan=\"3\" valign=\"top\">1</th>\n",
       "      <th>A</th>\n",
       "      <td>19208.662185</td>\n",
       "      <td>5.756303</td>\n",
       "      <td>5572.311429</td>\n",
       "      <td>117018.540000</td>\n",
       "      <td>111446.228571</td>\n",
       "      <td>4.761905</td>\n",
       "      <td>5572.311429</td>\n",
       "      <td>7.078151</td>\n",
       "      <td>2019.0</td>\n",
       "      <td>16.411765</td>\n",
       "      <td>14.504202</td>\n",
       "    </tr>\n",
       "    <tr>\n",
       "      <th>B</th>\n",
       "      <td>21225.113514</td>\n",
       "      <td>5.405405</td>\n",
       "      <td>5741.476216</td>\n",
       "      <td>120571.000541</td>\n",
       "      <td>114829.524324</td>\n",
       "      <td>4.761905</td>\n",
       "      <td>5741.476216</td>\n",
       "      <td>6.801802</td>\n",
       "      <td>2019.0</td>\n",
       "      <td>17.216216</td>\n",
       "      <td>15.243243</td>\n",
       "    </tr>\n",
       "    <tr>\n",
       "      <th>C</th>\n",
       "      <td>20242.475410</td>\n",
       "      <td>5.573770</td>\n",
       "      <td>5681.688197</td>\n",
       "      <td>119315.452131</td>\n",
       "      <td>113633.763934</td>\n",
       "      <td>4.761905</td>\n",
       "      <td>5681.688197</td>\n",
       "      <td>7.154918</td>\n",
       "      <td>2019.0</td>\n",
       "      <td>17.614754</td>\n",
       "      <td>14.729508</td>\n",
       "    </tr>\n",
       "    <tr>\n",
       "      <th rowspan=\"3\" valign=\"top\">2</th>\n",
       "      <th>A</th>\n",
       "      <td>20799.306383</td>\n",
       "      <td>5.244681</td>\n",
       "      <td>5445.614681</td>\n",
       "      <td>114357.908298</td>\n",
       "      <td>108912.293617</td>\n",
       "      <td>4.761905</td>\n",
       "      <td>5445.614681</td>\n",
       "      <td>7.007447</td>\n",
       "      <td>2019.0</td>\n",
       "      <td>13.680851</td>\n",
       "      <td>14.648936</td>\n",
       "    </tr>\n",
       "    <tr>\n",
       "      <th>B</th>\n",
       "      <td>19551.038532</td>\n",
       "      <td>5.724771</td>\n",
       "      <td>5414.040000</td>\n",
       "      <td>113694.840000</td>\n",
       "      <td>108280.800000</td>\n",
       "      <td>4.761905</td>\n",
       "      <td>5414.040000</td>\n",
       "      <td>7.008257</td>\n",
       "      <td>2019.0</td>\n",
       "      <td>15.009174</td>\n",
       "      <td>14.981651</td>\n",
       "    </tr>\n",
       "    <tr>\n",
       "      <th>C</th>\n",
       "      <td>20912.292000</td>\n",
       "      <td>5.370000</td>\n",
       "      <td>5645.997000</td>\n",
       "      <td>118565.937000</td>\n",
       "      <td>112919.940000</td>\n",
       "      <td>4.761905</td>\n",
       "      <td>5645.997000</td>\n",
       "      <td>7.200000</td>\n",
       "      <td>2019.0</td>\n",
       "      <td>12.780000</td>\n",
       "      <td>14.580000</td>\n",
       "    </tr>\n",
       "    <tr>\n",
       "      <th rowspan=\"3\" valign=\"top\">3</th>\n",
       "      <th>A</th>\n",
       "      <td>19403.234646</td>\n",
       "      <td>5.362205</td>\n",
       "      <td>5083.345984</td>\n",
       "      <td>106750.265669</td>\n",
       "      <td>101666.919685</td>\n",
       "      <td>4.761905</td>\n",
       "      <td>5083.345984</td>\n",
       "      <td>6.993701</td>\n",
       "      <td>2019.0</td>\n",
       "      <td>15.692913</td>\n",
       "      <td>14.834646</td>\n",
       "    </tr>\n",
       "    <tr>\n",
       "      <th>B</th>\n",
       "      <td>19333.446429</td>\n",
       "      <td>5.321429</td>\n",
       "      <td>5295.511607</td>\n",
       "      <td>111205.743750</td>\n",
       "      <td>105910.232143</td>\n",
       "      <td>4.761905</td>\n",
       "      <td>5295.511607</td>\n",
       "      <td>6.649107</td>\n",
       "      <td>2019.0</td>\n",
       "      <td>13.580357</td>\n",
       "      <td>15.214286</td>\n",
       "    </tr>\n",
       "    <tr>\n",
       "      <th>C</th>\n",
       "      <td>20033.796226</td>\n",
       "      <td>5.792453</td>\n",
       "      <td>6016.017736</td>\n",
       "      <td>126336.372453</td>\n",
       "      <td>120320.354717</td>\n",
       "      <td>4.761905</td>\n",
       "      <td>6016.017736</td>\n",
       "      <td>6.858491</td>\n",
       "      <td>2019.0</td>\n",
       "      <td>14.424528</td>\n",
       "      <td>15.462264</td>\n",
       "    </tr>\n",
       "  </tbody>\n",
       "</table>\n",
       "</div>"
      ],
      "text/plain": [
       "                Unit price  Quantity       Tax 5%          Total  \\\n",
       "Month Branch                                                       \n",
       "1     A       19208.662185  5.756303  5572.311429  117018.540000   \n",
       "      B       21225.113514  5.405405  5741.476216  120571.000541   \n",
       "      C       20242.475410  5.573770  5681.688197  119315.452131   \n",
       "2     A       20799.306383  5.244681  5445.614681  114357.908298   \n",
       "      B       19551.038532  5.724771  5414.040000  113694.840000   \n",
       "      C       20912.292000  5.370000  5645.997000  118565.937000   \n",
       "3     A       19403.234646  5.362205  5083.345984  106750.265669   \n",
       "      B       19333.446429  5.321429  5295.511607  111205.743750   \n",
       "      C       20033.796226  5.792453  6016.017736  126336.372453   \n",
       "\n",
       "                       cogs  gross margin percentage  gross income    Rating  \\\n",
       "Month Branch                                                                   \n",
       "1     A       111446.228571                 4.761905   5572.311429  7.078151   \n",
       "      B       114829.524324                 4.761905   5741.476216  6.801802   \n",
       "      C       113633.763934                 4.761905   5681.688197  7.154918   \n",
       "2     A       108912.293617                 4.761905   5445.614681  7.007447   \n",
       "      B       108280.800000                 4.761905   5414.040000  7.008257   \n",
       "      C       112919.940000                 4.761905   5645.997000  7.200000   \n",
       "3     A       101666.919685                 4.761905   5083.345984  6.993701   \n",
       "      B       105910.232143                 4.761905   5295.511607  6.649107   \n",
       "      C       120320.354717                 4.761905   6016.017736  6.858491   \n",
       "\n",
       "                Year       Days      Hours  \n",
       "Month Branch                                \n",
       "1     A       2019.0  16.411765  14.504202  \n",
       "      B       2019.0  17.216216  15.243243  \n",
       "      C       2019.0  17.614754  14.729508  \n",
       "2     A       2019.0  13.680851  14.648936  \n",
       "      B       2019.0  15.009174  14.981651  \n",
       "      C       2019.0  12.780000  14.580000  \n",
       "3     A       2019.0  15.692913  14.834646  \n",
       "      B       2019.0  13.580357  15.214286  \n",
       "      C       2019.0  14.424528  15.462264  "
      ]
     },
     "execution_count": 41,
     "metadata": {},
     "output_type": "execute_result"
    }
   ],
   "source": [
    "data.groupby(['Month','Branch']).agg('mean')"
   ]
  },
  {
   "cell_type": "markdown",
   "id": "complicated-vaccine",
   "metadata": {},
   "source": [
    "In the month of January branch B had the highest gross income of 5741, followed by C then A, in February branch C had the highest gross income and in March branch C also had the highest gross income with 5646 and 6016 for the two consecutive months. Branch A has been loosing momentum over the course of the 3 months with approximately 5572, 5446, 5083 in January february and March consecutively."
   ]
  },
  {
   "cell_type": "code",
   "execution_count": 42,
   "id": "unlikely-limit",
   "metadata": {},
   "outputs": [
    {
     "data": {
      "text/html": [
       "<div>\n",
       "<style scoped>\n",
       "    .dataframe tbody tr th:only-of-type {\n",
       "        vertical-align: middle;\n",
       "    }\n",
       "\n",
       "    .dataframe tbody tr th {\n",
       "        vertical-align: top;\n",
       "    }\n",
       "\n",
       "    .dataframe thead th {\n",
       "        text-align: right;\n",
       "    }\n",
       "</style>\n",
       "<table border=\"1\" class=\"dataframe\">\n",
       "  <thead>\n",
       "    <tr style=\"text-align: right;\">\n",
       "      <th></th>\n",
       "      <th></th>\n",
       "      <th>Unit price</th>\n",
       "      <th>Quantity</th>\n",
       "      <th>Tax 5%</th>\n",
       "      <th>Total</th>\n",
       "      <th>cogs</th>\n",
       "      <th>gross margin percentage</th>\n",
       "      <th>gross income</th>\n",
       "      <th>Rating</th>\n",
       "      <th>Year</th>\n",
       "      <th>Days</th>\n",
       "      <th>Hours</th>\n",
       "    </tr>\n",
       "    <tr>\n",
       "      <th>Month</th>\n",
       "      <th>City</th>\n",
       "      <th></th>\n",
       "      <th></th>\n",
       "      <th></th>\n",
       "      <th></th>\n",
       "      <th></th>\n",
       "      <th></th>\n",
       "      <th></th>\n",
       "      <th></th>\n",
       "      <th></th>\n",
       "      <th></th>\n",
       "      <th></th>\n",
       "    </tr>\n",
       "  </thead>\n",
       "  <tbody>\n",
       "    <tr>\n",
       "      <th rowspan=\"3\" valign=\"top\">1</th>\n",
       "      <th>Abuja</th>\n",
       "      <td>21225.113514</td>\n",
       "      <td>5.405405</td>\n",
       "      <td>5741.476216</td>\n",
       "      <td>120571.000541</td>\n",
       "      <td>114829.524324</td>\n",
       "      <td>4.761905</td>\n",
       "      <td>5741.476216</td>\n",
       "      <td>6.801802</td>\n",
       "      <td>2019.0</td>\n",
       "      <td>17.216216</td>\n",
       "      <td>15.243243</td>\n",
       "    </tr>\n",
       "    <tr>\n",
       "      <th>Lagos</th>\n",
       "      <td>19208.662185</td>\n",
       "      <td>5.756303</td>\n",
       "      <td>5572.311429</td>\n",
       "      <td>117018.540000</td>\n",
       "      <td>111446.228571</td>\n",
       "      <td>4.761905</td>\n",
       "      <td>5572.311429</td>\n",
       "      <td>7.078151</td>\n",
       "      <td>2019.0</td>\n",
       "      <td>16.411765</td>\n",
       "      <td>14.504202</td>\n",
       "    </tr>\n",
       "    <tr>\n",
       "      <th>Port Harcourt</th>\n",
       "      <td>20242.475410</td>\n",
       "      <td>5.573770</td>\n",
       "      <td>5681.688197</td>\n",
       "      <td>119315.452131</td>\n",
       "      <td>113633.763934</td>\n",
       "      <td>4.761905</td>\n",
       "      <td>5681.688197</td>\n",
       "      <td>7.154918</td>\n",
       "      <td>2019.0</td>\n",
       "      <td>17.614754</td>\n",
       "      <td>14.729508</td>\n",
       "    </tr>\n",
       "    <tr>\n",
       "      <th rowspan=\"3\" valign=\"top\">2</th>\n",
       "      <th>Abuja</th>\n",
       "      <td>19551.038532</td>\n",
       "      <td>5.724771</td>\n",
       "      <td>5414.040000</td>\n",
       "      <td>113694.840000</td>\n",
       "      <td>108280.800000</td>\n",
       "      <td>4.761905</td>\n",
       "      <td>5414.040000</td>\n",
       "      <td>7.008257</td>\n",
       "      <td>2019.0</td>\n",
       "      <td>15.009174</td>\n",
       "      <td>14.981651</td>\n",
       "    </tr>\n",
       "    <tr>\n",
       "      <th>Lagos</th>\n",
       "      <td>20799.306383</td>\n",
       "      <td>5.244681</td>\n",
       "      <td>5445.614681</td>\n",
       "      <td>114357.908298</td>\n",
       "      <td>108912.293617</td>\n",
       "      <td>4.761905</td>\n",
       "      <td>5445.614681</td>\n",
       "      <td>7.007447</td>\n",
       "      <td>2019.0</td>\n",
       "      <td>13.680851</td>\n",
       "      <td>14.648936</td>\n",
       "    </tr>\n",
       "    <tr>\n",
       "      <th>Port Harcourt</th>\n",
       "      <td>20912.292000</td>\n",
       "      <td>5.370000</td>\n",
       "      <td>5645.997000</td>\n",
       "      <td>118565.937000</td>\n",
       "      <td>112919.940000</td>\n",
       "      <td>4.761905</td>\n",
       "      <td>5645.997000</td>\n",
       "      <td>7.200000</td>\n",
       "      <td>2019.0</td>\n",
       "      <td>12.780000</td>\n",
       "      <td>14.580000</td>\n",
       "    </tr>\n",
       "    <tr>\n",
       "      <th rowspan=\"3\" valign=\"top\">3</th>\n",
       "      <th>Abuja</th>\n",
       "      <td>19333.446429</td>\n",
       "      <td>5.321429</td>\n",
       "      <td>5295.511607</td>\n",
       "      <td>111205.743750</td>\n",
       "      <td>105910.232143</td>\n",
       "      <td>4.761905</td>\n",
       "      <td>5295.511607</td>\n",
       "      <td>6.649107</td>\n",
       "      <td>2019.0</td>\n",
       "      <td>13.580357</td>\n",
       "      <td>15.214286</td>\n",
       "    </tr>\n",
       "    <tr>\n",
       "      <th>Lagos</th>\n",
       "      <td>19403.234646</td>\n",
       "      <td>5.362205</td>\n",
       "      <td>5083.345984</td>\n",
       "      <td>106750.265669</td>\n",
       "      <td>101666.919685</td>\n",
       "      <td>4.761905</td>\n",
       "      <td>5083.345984</td>\n",
       "      <td>6.993701</td>\n",
       "      <td>2019.0</td>\n",
       "      <td>15.692913</td>\n",
       "      <td>14.834646</td>\n",
       "    </tr>\n",
       "    <tr>\n",
       "      <th>Port Harcourt</th>\n",
       "      <td>20033.796226</td>\n",
       "      <td>5.792453</td>\n",
       "      <td>6016.017736</td>\n",
       "      <td>126336.372453</td>\n",
       "      <td>120320.354717</td>\n",
       "      <td>4.761905</td>\n",
       "      <td>6016.017736</td>\n",
       "      <td>6.858491</td>\n",
       "      <td>2019.0</td>\n",
       "      <td>14.424528</td>\n",
       "      <td>15.462264</td>\n",
       "    </tr>\n",
       "  </tbody>\n",
       "</table>\n",
       "</div>"
      ],
      "text/plain": [
       "                       Unit price  Quantity       Tax 5%          Total  \\\n",
       "Month City                                                                \n",
       "1     Abuja          21225.113514  5.405405  5741.476216  120571.000541   \n",
       "      Lagos          19208.662185  5.756303  5572.311429  117018.540000   \n",
       "      Port Harcourt  20242.475410  5.573770  5681.688197  119315.452131   \n",
       "2     Abuja          19551.038532  5.724771  5414.040000  113694.840000   \n",
       "      Lagos          20799.306383  5.244681  5445.614681  114357.908298   \n",
       "      Port Harcourt  20912.292000  5.370000  5645.997000  118565.937000   \n",
       "3     Abuja          19333.446429  5.321429  5295.511607  111205.743750   \n",
       "      Lagos          19403.234646  5.362205  5083.345984  106750.265669   \n",
       "      Port Harcourt  20033.796226  5.792453  6016.017736  126336.372453   \n",
       "\n",
       "                              cogs  gross margin percentage  gross income  \\\n",
       "Month City                                                                  \n",
       "1     Abuja          114829.524324                 4.761905   5741.476216   \n",
       "      Lagos          111446.228571                 4.761905   5572.311429   \n",
       "      Port Harcourt  113633.763934                 4.761905   5681.688197   \n",
       "2     Abuja          108280.800000                 4.761905   5414.040000   \n",
       "      Lagos          108912.293617                 4.761905   5445.614681   \n",
       "      Port Harcourt  112919.940000                 4.761905   5645.997000   \n",
       "3     Abuja          105910.232143                 4.761905   5295.511607   \n",
       "      Lagos          101666.919685                 4.761905   5083.345984   \n",
       "      Port Harcourt  120320.354717                 4.761905   6016.017736   \n",
       "\n",
       "                       Rating    Year       Days      Hours  \n",
       "Month City                                                   \n",
       "1     Abuja          6.801802  2019.0  17.216216  15.243243  \n",
       "      Lagos          7.078151  2019.0  16.411765  14.504202  \n",
       "      Port Harcourt  7.154918  2019.0  17.614754  14.729508  \n",
       "2     Abuja          7.008257  2019.0  15.009174  14.981651  \n",
       "      Lagos          7.007447  2019.0  13.680851  14.648936  \n",
       "      Port Harcourt  7.200000  2019.0  12.780000  14.580000  \n",
       "3     Abuja          6.649107  2019.0  13.580357  15.214286  \n",
       "      Lagos          6.993701  2019.0  15.692913  14.834646  \n",
       "      Port Harcourt  6.858491  2019.0  14.424528  15.462264  "
      ]
     },
     "execution_count": 42,
     "metadata": {},
     "output_type": "execute_result"
    }
   ],
   "source": [
    "data.groupby(['Month','City']).agg('mean')"
   ]
  },
  {
   "cell_type": "code",
   "execution_count": 43,
   "id": "saving-february",
   "metadata": {
    "scrolled": true
   },
   "outputs": [
    {
     "data": {
      "text/html": [
       "<div>\n",
       "<style scoped>\n",
       "    .dataframe tbody tr th:only-of-type {\n",
       "        vertical-align: middle;\n",
       "    }\n",
       "\n",
       "    .dataframe tbody tr th {\n",
       "        vertical-align: top;\n",
       "    }\n",
       "\n",
       "    .dataframe thead th {\n",
       "        text-align: right;\n",
       "    }\n",
       "</style>\n",
       "<table border=\"1\" class=\"dataframe\">\n",
       "  <thead>\n",
       "    <tr style=\"text-align: right;\">\n",
       "      <th>City</th>\n",
       "      <th>Abuja</th>\n",
       "      <th>Lagos</th>\n",
       "      <th>Port Harcourt</th>\n",
       "      <th>All</th>\n",
       "    </tr>\n",
       "    <tr>\n",
       "      <th>Gender</th>\n",
       "      <th></th>\n",
       "      <th></th>\n",
       "      <th></th>\n",
       "      <th></th>\n",
       "    </tr>\n",
       "  </thead>\n",
       "  <tbody>\n",
       "    <tr>\n",
       "      <th>Female</th>\n",
       "      <td>5600.877778</td>\n",
       "      <td>5671.960994</td>\n",
       "      <td>5940.815056</td>\n",
       "      <td>5744.497006</td>\n",
       "    </tr>\n",
       "    <tr>\n",
       "      <th>Male</th>\n",
       "      <td>5371.701882</td>\n",
       "      <td>5069.229385</td>\n",
       "      <td>5586.656400</td>\n",
       "      <td>5327.815311</td>\n",
       "    </tr>\n",
       "    <tr>\n",
       "      <th>All</th>\n",
       "      <td>5483.528675</td>\n",
       "      <td>5354.640529</td>\n",
       "      <td>5778.852256</td>\n",
       "      <td>5536.572840</td>\n",
       "    </tr>\n",
       "  </tbody>\n",
       "</table>\n",
       "</div>"
      ],
      "text/plain": [
       "City          Abuja        Lagos  Port Harcourt          All\n",
       "Gender                                                      \n",
       "Female  5600.877778  5671.960994    5940.815056  5744.497006\n",
       "Male    5371.701882  5069.229385    5586.656400  5327.815311\n",
       "All     5483.528675  5354.640529    5778.852256  5536.572840"
      ]
     },
     "execution_count": 43,
     "metadata": {},
     "output_type": "execute_result"
    }
   ],
   "source": [
    "data.pivot_table('gross income',index='Gender',columns='City',aggfunc='mean',margins=True)"
   ]
  },
  {
   "cell_type": "code",
   "execution_count": 44,
   "id": "dated-start",
   "metadata": {},
   "outputs": [
    {
     "data": {
      "text/html": [
       "<div>\n",
       "<style scoped>\n",
       "    .dataframe tbody tr th:only-of-type {\n",
       "        vertical-align: middle;\n",
       "    }\n",
       "\n",
       "    .dataframe tbody tr th {\n",
       "        vertical-align: top;\n",
       "    }\n",
       "\n",
       "    .dataframe thead th {\n",
       "        text-align: right;\n",
       "    }\n",
       "</style>\n",
       "<table border=\"1\" class=\"dataframe\">\n",
       "  <thead>\n",
       "    <tr style=\"text-align: right;\">\n",
       "      <th></th>\n",
       "      <th>sum</th>\n",
       "      <th>mean</th>\n",
       "    </tr>\n",
       "    <tr>\n",
       "      <th>City</th>\n",
       "      <th></th>\n",
       "      <th></th>\n",
       "    </tr>\n",
       "  </thead>\n",
       "  <tbody>\n",
       "    <tr>\n",
       "      <th>Abuja</th>\n",
       "      <td>6652396.8</td>\n",
       "      <td>20037.339759</td>\n",
       "    </tr>\n",
       "    <tr>\n",
       "      <th>Lagos</th>\n",
       "      <td>6705176.4</td>\n",
       "      <td>19721.107059</td>\n",
       "    </tr>\n",
       "    <tr>\n",
       "      <th>Port Harcourt</th>\n",
       "      <td>6684393.6</td>\n",
       "      <td>20379.248780</td>\n",
       "    </tr>\n",
       "  </tbody>\n",
       "</table>\n",
       "</div>"
      ],
      "text/plain": [
       "                     sum          mean\n",
       "City                                  \n",
       "Abuja          6652396.8  20037.339759\n",
       "Lagos          6705176.4  19721.107059\n",
       "Port Harcourt  6684393.6  20379.248780"
      ]
     },
     "execution_count": 44,
     "metadata": {},
     "output_type": "execute_result"
    }
   ],
   "source": [
    "data.groupby('City')['Unit price'].aggregate(['sum','mean'])"
   ]
  },
  {
   "cell_type": "code",
   "execution_count": 45,
   "id": "liable-attachment",
   "metadata": {},
   "outputs": [
    {
     "data": {
      "text/html": [
       "<div>\n",
       "<style scoped>\n",
       "    .dataframe tbody tr th:only-of-type {\n",
       "        vertical-align: middle;\n",
       "    }\n",
       "\n",
       "    .dataframe tbody tr th {\n",
       "        vertical-align: top;\n",
       "    }\n",
       "\n",
       "    .dataframe thead th {\n",
       "        text-align: right;\n",
       "    }\n",
       "</style>\n",
       "<table border=\"1\" class=\"dataframe\">\n",
       "  <thead>\n",
       "    <tr style=\"text-align: right;\">\n",
       "      <th></th>\n",
       "      <th>sum</th>\n",
       "      <th>mean</th>\n",
       "    </tr>\n",
       "    <tr>\n",
       "      <th>City</th>\n",
       "      <th></th>\n",
       "      <th></th>\n",
       "    </tr>\n",
       "  </thead>\n",
       "  <tbody>\n",
       "    <tr>\n",
       "      <th>Abuja</th>\n",
       "      <td>1820</td>\n",
       "      <td>5.481928</td>\n",
       "    </tr>\n",
       "    <tr>\n",
       "      <th>Lagos</th>\n",
       "      <td>1859</td>\n",
       "      <td>5.467647</td>\n",
       "    </tr>\n",
       "    <tr>\n",
       "      <th>Port Harcourt</th>\n",
       "      <td>1831</td>\n",
       "      <td>5.582317</td>\n",
       "    </tr>\n",
       "  </tbody>\n",
       "</table>\n",
       "</div>"
      ],
      "text/plain": [
       "                sum      mean\n",
       "City                         \n",
       "Abuja          1820  5.481928\n",
       "Lagos          1859  5.467647\n",
       "Port Harcourt  1831  5.582317"
      ]
     },
     "execution_count": 45,
     "metadata": {},
     "output_type": "execute_result"
    }
   ],
   "source": [
    "data.groupby('City')['Quantity'].aggregate(['sum','mean'])"
   ]
  },
  {
   "cell_type": "code",
   "execution_count": 46,
   "id": "aquatic-fever",
   "metadata": {},
   "outputs": [
    {
     "data": {
      "text/html": [
       "<div>\n",
       "<style scoped>\n",
       "    .dataframe tbody tr th:only-of-type {\n",
       "        vertical-align: middle;\n",
       "    }\n",
       "\n",
       "    .dataframe tbody tr th {\n",
       "        vertical-align: top;\n",
       "    }\n",
       "\n",
       "    .dataframe thead th {\n",
       "        text-align: right;\n",
       "    }\n",
       "</style>\n",
       "<table border=\"1\" class=\"dataframe\">\n",
       "  <thead>\n",
       "    <tr style=\"text-align: right;\">\n",
       "      <th></th>\n",
       "      <th>sum</th>\n",
       "      <th>mean</th>\n",
       "    </tr>\n",
       "    <tr>\n",
       "      <th>City</th>\n",
       "      <th></th>\n",
       "      <th></th>\n",
       "    </tr>\n",
       "  </thead>\n",
       "  <tbody>\n",
       "    <tr>\n",
       "      <th>Abuja</th>\n",
       "      <td>2263.6</td>\n",
       "      <td>6.818072</td>\n",
       "    </tr>\n",
       "    <tr>\n",
       "      <th>Lagos</th>\n",
       "      <td>2389.2</td>\n",
       "      <td>7.027059</td>\n",
       "    </tr>\n",
       "    <tr>\n",
       "      <th>Port Harcourt</th>\n",
       "      <td>2319.9</td>\n",
       "      <td>7.072866</td>\n",
       "    </tr>\n",
       "  </tbody>\n",
       "</table>\n",
       "</div>"
      ],
      "text/plain": [
       "                  sum      mean\n",
       "City                           \n",
       "Abuja          2263.6  6.818072\n",
       "Lagos          2389.2  7.027059\n",
       "Port Harcourt  2319.9  7.072866"
      ]
     },
     "execution_count": 46,
     "metadata": {},
     "output_type": "execute_result"
    }
   ],
   "source": [
    "data.groupby('City')['Rating'].aggregate(['sum','mean'])"
   ]
  },
  {
   "cell_type": "code",
   "execution_count": 47,
   "id": "comic-swift",
   "metadata": {},
   "outputs": [
    {
     "data": {
      "text/html": [
       "<div>\n",
       "<style scoped>\n",
       "    .dataframe tbody tr th:only-of-type {\n",
       "        vertical-align: middle;\n",
       "    }\n",
       "\n",
       "    .dataframe tbody tr th {\n",
       "        vertical-align: top;\n",
       "    }\n",
       "\n",
       "    .dataframe thead th {\n",
       "        text-align: right;\n",
       "    }\n",
       "</style>\n",
       "<table border=\"1\" class=\"dataframe\">\n",
       "  <thead>\n",
       "    <tr style=\"text-align: right;\">\n",
       "      <th></th>\n",
       "      <th>sum</th>\n",
       "      <th>mean</th>\n",
       "    </tr>\n",
       "    <tr>\n",
       "      <th>Branch</th>\n",
       "      <th></th>\n",
       "      <th></th>\n",
       "    </tr>\n",
       "  </thead>\n",
       "  <tbody>\n",
       "    <tr>\n",
       "      <th>A</th>\n",
       "      <td>2389.2</td>\n",
       "      <td>7.027059</td>\n",
       "    </tr>\n",
       "    <tr>\n",
       "      <th>B</th>\n",
       "      <td>2263.6</td>\n",
       "      <td>6.818072</td>\n",
       "    </tr>\n",
       "    <tr>\n",
       "      <th>C</th>\n",
       "      <td>2319.9</td>\n",
       "      <td>7.072866</td>\n",
       "    </tr>\n",
       "  </tbody>\n",
       "</table>\n",
       "</div>"
      ],
      "text/plain": [
       "           sum      mean\n",
       "Branch                  \n",
       "A       2389.2  7.027059\n",
       "B       2263.6  6.818072\n",
       "C       2319.9  7.072866"
      ]
     },
     "execution_count": 47,
     "metadata": {},
     "output_type": "execute_result"
    }
   ],
   "source": [
    "data.groupby('Branch')['Rating'].aggregate(['sum','mean'])"
   ]
  },
  {
   "cell_type": "markdown",
   "id": "specialized-removal",
   "metadata": {},
   "source": [
    "The city with the highest average rating is and the City with the highest average rating is PortHarcourt with Lagos being the next in line followed by Abuja."
   ]
  },
  {
   "cell_type": "code",
   "execution_count": 48,
   "id": "handed-evidence",
   "metadata": {},
   "outputs": [
    {
     "data": {
      "text/html": [
       "<div>\n",
       "<style scoped>\n",
       "    .dataframe tbody tr th:only-of-type {\n",
       "        vertical-align: middle;\n",
       "    }\n",
       "\n",
       "    .dataframe tbody tr th {\n",
       "        vertical-align: top;\n",
       "    }\n",
       "\n",
       "    .dataframe thead th {\n",
       "        text-align: right;\n",
       "    }\n",
       "</style>\n",
       "<table border=\"1\" class=\"dataframe\">\n",
       "  <thead>\n",
       "    <tr style=\"text-align: right;\">\n",
       "      <th></th>\n",
       "      <th>sum</th>\n",
       "      <th>mean</th>\n",
       "    </tr>\n",
       "    <tr>\n",
       "      <th>Branch</th>\n",
       "      <th></th>\n",
       "      <th></th>\n",
       "    </tr>\n",
       "  </thead>\n",
       "  <tbody>\n",
       "    <tr>\n",
       "      <th>A</th>\n",
       "      <td>1859</td>\n",
       "      <td>5.467647</td>\n",
       "    </tr>\n",
       "    <tr>\n",
       "      <th>B</th>\n",
       "      <td>1820</td>\n",
       "      <td>5.481928</td>\n",
       "    </tr>\n",
       "    <tr>\n",
       "      <th>C</th>\n",
       "      <td>1831</td>\n",
       "      <td>5.582317</td>\n",
       "    </tr>\n",
       "  </tbody>\n",
       "</table>\n",
       "</div>"
      ],
      "text/plain": [
       "         sum      mean\n",
       "Branch                \n",
       "A       1859  5.467647\n",
       "B       1820  5.481928\n",
       "C       1831  5.582317"
      ]
     },
     "execution_count": 48,
     "metadata": {},
     "output_type": "execute_result"
    }
   ],
   "source": [
    "data.groupby('Branch')['Quantity'].aggregate(['sum','mean'])"
   ]
  },
  {
   "cell_type": "markdown",
   "id": "offensive-passion",
   "metadata": {},
   "source": [
    "The branch with the highest average rating is and the City with the highest average rating is branch C with branch B being the next in line followed by A."
   ]
  },
  {
   "cell_type": "markdown",
   "id": "whole-estate",
   "metadata": {},
   "source": [
    "## Step 6 - Data Visualization"
   ]
  },
  {
   "cell_type": "markdown",
   "id": "productive-disclaimer",
   "metadata": {},
   "source": [
    "### --> Result that shows the Payment channel used by most customers to pay for each product line. Chart should also show the \"product line\" column on the Y-axis, and the \"hue\" parameter for the \"Payment\" column. "
   ]
  },
  {
   "cell_type": "code",
   "execution_count": 49,
   "id": "pediatric-component",
   "metadata": {
    "scrolled": true
   },
   "outputs": [
    {
     "data": {
      "text/plain": [
       "<matplotlib.axes._subplots.AxesSubplot at 0xdc919dc0>"
      ]
     },
     "execution_count": 49,
     "metadata": {},
     "output_type": "execute_result"
    },
    {
     "data": {
      "image/png": "[encoded data removed]",
      "text/plain": [
       "<Figure size 432x288 with 1 Axes>"
      ]
     },
     "metadata": {},
     "output_type": "display_data"
    }
   ],
   "source": [
    "sns.countplot(y='Product line',hue='Payment',data=data)"
   ]
  },
  {
   "cell_type": "markdown",
   "id": "traditional-camping",
   "metadata": {},
   "source": [
    "* A large percent of the electrical accessories were paid for using cash channel\n",
    "\n",
    "* For home and lifestyle product lines it was majorly purchased using Epay\n",
    "\n",
    "* There is a fine distribution of the payment channels used for the food and beverages product line\n",
    "\n",
    "* Sports and travel have majority of their products paid in cash\n",
    "\n",
    "* Most of the customers purchase for health and beauty products were paid with using Epay\n",
    "\n",
    "* A very large amount of the Fashion accessories were paid for using Epay"
   ]
  },
  {
   "cell_type": "markdown",
   "id": "neither-drilling",
   "metadata": {},
   "source": [
    "### -->Optional - Appropriate use of countplot to determine the most used payment method & city with the most sales."
   ]
  },
  {
   "cell_type": "code",
   "execution_count": 50,
   "id": "piano-violence",
   "metadata": {
    "scrolled": true
   },
   "outputs": [
    {
     "data": {
      "text/plain": [
       "<matplotlib.axes._subplots.AxesSubplot at 0xdb8b5c28>"
      ]
     },
     "execution_count": 50,
     "metadata": {},
     "output_type": "execute_result"
    },
    {
     "data": {
      "image/png": "[encoded data removed]",
      "text/plain": [
       "<Figure size 432x288 with 1 Axes>"
      ]
     },
     "metadata": {},
     "output_type": "display_data"
    }
   ],
   "source": [
    "sns.countplot(x='Payment',hue='Branch',data=data)"
   ]
  },
  {
   "cell_type": "code",
   "execution_count": 51,
   "id": "temporal-natural",
   "metadata": {},
   "outputs": [
    {
     "data": {
      "text/plain": [
       "<matplotlib.axes._subplots.AxesSubplot at 0xdb781d00>"
      ]
     },
     "execution_count": 51,
     "metadata": {},
     "output_type": "execute_result"
    },
    {
     "data": {
      "image/png": "[encoded data removed]",
      "text/plain": [
       "<Figure size 432x288 with 1 Axes>"
      ]
     },
     "metadata": {},
     "output_type": "display_data"
    }
   ],
   "source": [
    "sns.countplot(x='Customer type',hue='Gender',data=data)"
   ]
  },
  {
   "cell_type": "code",
   "execution_count": 52,
   "id": "bound-baghdad",
   "metadata": {},
   "outputs": [
    {
     "data": {
      "text/plain": [
       "<matplotlib.axes._subplots.AxesSubplot at 0xdb7b2910>"
      ]
     },
     "execution_count": 52,
     "metadata": {},
     "output_type": "execute_result"
    },
    {
     "data": {
      "image/png": "[encoded data removed]",
      "text/plain": [
       "<Figure size 432x288 with 1 Axes>"
      ]
     },
     "metadata": {},
     "output_type": "display_data"
    }
   ],
   "source": [
    "sns.countplot(y='Product line',hue='Gender',data=data)"
   ]
  },
  {
   "cell_type": "code",
   "execution_count": 53,
   "id": "daily-sunglasses",
   "metadata": {},
   "outputs": [
    {
     "data": {
      "text/plain": [
       "<matplotlib.axes._subplots.AxesSubplot at 0xdb76df58>"
      ]
     },
     "execution_count": 53,
     "metadata": {},
     "output_type": "execute_result"
    },
    {
     "data": {
      "image/png": "[encoded data removed]",
      "text/plain": [
       "<Figure size 432x288 with 1 Axes>"
      ]
     },
     "metadata": {},
     "output_type": "display_data"
    }
   ],
   "source": [
    "sns.countplot(x='City',hue='Gender',data=data)"
   ]
  },
  {
   "cell_type": "markdown",
   "id": "textile-omega",
   "metadata": {},
   "source": [
    "Dominant female activity in branch A and B while the men seem to be slightly higher than the females at Branch C"
   ]
  },
  {
   "cell_type": "code",
   "execution_count": 54,
   "id": "promotional-carter",
   "metadata": {},
   "outputs": [
    {
     "data": {
      "text/plain": [
       "<matplotlib.axes._subplots.AxesSubplot at 0xdb731d78>"
      ]
     },
     "execution_count": 54,
     "metadata": {},
     "output_type": "execute_result"
    },
    {
     "data": {
      "image/png": "[encoded data removed]",
      "text/plain": [
       "<Figure size 432x288 with 1 Axes>"
      ]
     },
     "metadata": {},
     "output_type": "display_data"
    }
   ],
   "source": [
    "sns.countplot(x='Branch',hue='Gender',data=data)"
   ]
  },
  {
   "cell_type": "code",
   "execution_count": 55,
   "id": "foreign-stability",
   "metadata": {
    "scrolled": true
   },
   "outputs": [
    {
     "data": {
      "text/plain": [
       "<matplotlib.axes._subplots.AxesSubplot at 0xdb6f1f88>"
      ]
     },
     "execution_count": 55,
     "metadata": {},
     "output_type": "execute_result"
    },
    {
     "data": {
      "image/png": "[encoded data removed]",
      "text/plain": [
       "<Figure size 432x288 with 1 Axes>"
      ]
     },
     "metadata": {},
     "output_type": "display_data"
    }
   ],
   "source": [
    "sns.histplot(data['Total'])"
   ]
  },
  {
   "cell_type": "markdown",
   "id": "recovered-reading",
   "metadata": {},
   "source": [
    "## Outliers Detection"
   ]
  },
  {
   "cell_type": "code",
   "execution_count": 56,
   "id": "animated-disclaimer",
   "metadata": {
    "scrolled": true
   },
   "outputs": [
    {
     "data": {
      "text/plain": [
       "<matplotlib.axes._subplots.AxesSubplot at 0xdb643bb0>"
      ]
     },
     "execution_count": 56,
     "metadata": {},
     "output_type": "execute_result"
    },
    {
     "data": {
      "image/png": "[encoded data removed]",
      "text/plain": [
       "<Figure size 432x288 with 1 Axes>"
      ]
     },
     "metadata": {},
     "output_type": "display_data"
    }
   ],
   "source": [
    "sns.heatmap(data.isnull(),yticklabels=False,cbar=False,cmap='viridis')"
   ]
  },
  {
   "cell_type": "markdown",
   "id": "cutting-thong",
   "metadata": {},
   "source": [
    "This shows us that there are no missing values in the dataset"
   ]
  },
  {
   "cell_type": "markdown",
   "id": "improving-commodity",
   "metadata": {},
   "source": [
    "## Correlation Analysis Of All Non object columns"
   ]
  },
  {
   "cell_type": "markdown",
   "id": "conceptual-heater",
   "metadata": {},
   "source": [
    "### Pearson"
   ]
  },
  {
   "cell_type": "code",
   "execution_count": 71,
   "id": "structural-darwin",
   "metadata": {},
   "outputs": [
    {
     "data": {
      "text/plain": [
       "<matplotlib.axes._subplots.AxesSubplot at 0xd94f0fd0>"
      ]
     },
     "execution_count": 71,
     "metadata": {},
     "output_type": "execute_result"
    },
    {
     "data": {
      "image/png": "[encoded data removed]",
      "text/plain": [
       "<Figure size 864x288 with 2 Axes>"
      ]
     },
     "metadata": {},
     "output_type": "display_data"
    }
   ],
   "source": [
    "fig,ax=plt.subplots(figsize=(12,4))\n",
    "sns.heatmap(data.corr(method='pearson'),annot=True,cmap='inferno')"
   ]
  },
  {
   "cell_type": "markdown",
   "id": "electoral-driving",
   "metadata": {},
   "source": [
    "### Spearman"
   ]
  },
  {
   "cell_type": "code",
   "execution_count": 70,
   "id": "corrected-distinction",
   "metadata": {
    "scrolled": true
   },
   "outputs": [
    {
     "data": {
      "text/plain": [
       "<matplotlib.axes._subplots.AxesSubplot at 0xd9937898>"
      ]
     },
     "execution_count": 70,
     "metadata": {},
     "output_type": "execute_result"
    },
    {
     "data": {
      "image/png": "[encoded data removed]",
      "text/plain": [
       "<Figure size 864x288 with 2 Axes>"
      ]
     },
     "metadata": {},
     "output_type": "display_data"
    }
   ],
   "source": [
    "fig,ax=plt.subplots(figsize=(12,4))\n",
    "sns.heatmap(data.corr(method='spearman'),annot=True,cmap='viridis')"
   ]
  },
  {
   "cell_type": "markdown",
   "id": "fitting-wednesday",
   "metadata": {},
   "source": [
    "### --> Appropriate use of countplot to determine the highest & lowest sold product line."
   ]
  },
  {
   "cell_type": "code",
   "execution_count": 59,
   "id": "controversial-attachment",
   "metadata": {},
   "outputs": [
    {
     "data": {
      "text/plain": [
       "<matplotlib.axes._subplots.AxesSubplot at 0xdac973b8>"
      ]
     },
     "execution_count": 59,
     "metadata": {},
     "output_type": "execute_result"
    },
    {
     "data": {
      "image/png": "[encoded data removed]",
      "text/plain": [
       "<Figure size 432x288 with 1 Axes>"
      ]
     },
     "metadata": {},
     "output_type": "display_data"
    }
   ],
   "source": [
    "sns.countplot(data=data,x='City',hue='Product line')"
   ]
  },
  {
   "cell_type": "markdown",
   "id": "entertaining-honor",
   "metadata": {},
   "source": [
    "* Food And Beverages are sold most in Port-Harcourt\n",
    "\n",
    "* Fashion accessories are also sold most in Port-Harcourt\n",
    "\n",
    "* Lagos has the highes purchase for electronic equipments\n",
    "\n",
    "* Sports and travel products were mostly sold at Abuja\n",
    "\n",
    "* Home and lifestyle commoditites are heavily purchased in Lagos\n",
    "\n",
    "* All three states have an approximate equal number of sales for health and beauty commodities\n",
    "\n",
    "* The supermarket should focus on increasing it marketing strategy for sales of health and beauty products especially in lagos which has high potential yield rate\n",
    "\n",
    "* In other for the Branch at portharcourt to do better the sales management should work on generating more incoming through sports and travel, home, and lifestyle commodities. \n",
    "\n",
    "* More efforts need to be put in the Lagos fashion accessory fraction\n",
    "\n",
    "* Relative to Lagos and Port Harcourt Abuja branch hasn't been doing well sales wise as regars the yield in sales for the food, beverage, home, lifestyle, health and beauty hence more attention should be given to these areas"
   ]
  },
  {
   "cell_type": "code",
   "execution_count": 60,
   "id": "wireless-austria",
   "metadata": {},
   "outputs": [
    {
     "data": {
      "text/plain": [
       "<matplotlib.axes._subplots.AxesSubplot at 0xdaaf0c28>"
      ]
     },
     "execution_count": 60,
     "metadata": {},
     "output_type": "execute_result"
    },
    {
     "data": {
      "image/png": "[encoded data removed]",
      "text/plain": [
       "<Figure size 432x288 with 1 Axes>"
      ]
     },
     "metadata": {},
     "output_type": "display_data"
    }
   ],
   "source": [
    "sns.countplot(data=data,x='Branch',hue='Product line')"
   ]
  },
  {
   "cell_type": "code",
   "execution_count": 61,
   "id": "looking-chest",
   "metadata": {},
   "outputs": [
    {
     "data": {
      "text/plain": [
       "<matplotlib.axes._subplots.AxesSubplot at 0xda9417d8>"
      ]
     },
     "execution_count": 61,
     "metadata": {},
     "output_type": "execute_result"
    },
    {
     "data": {
      "image/png": "[encoded data removed]",
      "text/plain": [
       "<Figure size 432x288 with 1 Axes>"
      ]
     },
     "metadata": {},
     "output_type": "display_data"
    }
   ],
   "source": [
    "sns.histplot(data['Unit price'])"
   ]
  },
  {
   "cell_type": "code",
   "execution_count": 62,
   "id": "waiting-expense",
   "metadata": {},
   "outputs": [
    {
     "data": {
      "text/plain": [
       "<seaborn.axisgrid.JointGrid at 0xdb1e8070>"
      ]
     },
     "execution_count": 62,
     "metadata": {},
     "output_type": "execute_result"
    },
    {
     "data": {
      "image/png": "[encoded data removed]",
      "text/plain": [
       "<Figure size 432x432 with 3 Axes>"
      ]
     },
     "metadata": {},
     "output_type": "display_data"
    }
   ],
   "source": [
    "sns.jointplot(data['Total'],data['cogs'],data,kind='scatter')"
   ]
  },
  {
   "cell_type": "markdown",
   "id": "present-edward",
   "metadata": {},
   "source": [
    "This indicates that there is high variance in the correlation between the cost of goods sold and the total amount generated"
   ]
  },
  {
   "cell_type": "code",
   "execution_count": 63,
   "id": "interior-jackson",
   "metadata": {},
   "outputs": [
    {
     "data": {
      "text/plain": [
       "<matplotlib.legend.Legend at 0xda7bf7c0>"
      ]
     },
     "execution_count": 63,
     "metadata": {},
     "output_type": "execute_result"
    },
    {
     "data": {
      "image/png": "[encoded data removed]",
      "text/plain": [
       "<Figure size 432x288 with 1 Axes>"
      ]
     },
     "metadata": {},
     "output_type": "display_data"
    }
   ],
   "source": [
    "plt.hist('Total',data=data[data['Gender']=='Male'],alpha=0.5,label='Male',color='red')\n",
    "plt.hist('Total',data=data[data['Gender']=='Female'],alpha=0.5,label='Female',color='blue')\n",
    "plt.title('Distribution Of Total Amount Of Sales By Gender')\n",
    "plt.xlabel('Total')\n",
    "plt.legend(loc=0)"
   ]
  },
  {
   "cell_type": "code",
   "execution_count": 64,
   "id": "amazing-design",
   "metadata": {},
   "outputs": [
    {
     "data": {
      "text/plain": [
       "<matplotlib.legend.Legend at 0xda6330a0>"
      ]
     },
     "execution_count": 64,
     "metadata": {},
     "output_type": "execute_result"
    },
    {
     "data": {
      "image/png": "[encoded data removed]",
      "text/plain": [
       "<Figure size 432x288 with 3 Axes>"
      ]
     },
     "metadata": {},
     "output_type": "display_data"
    }
   ],
   "source": [
    "plt.subplot(1,3,1)\n",
    "plt.hist('Rating',data=data[data['Branch']=='A'],alpha=0.5,label='Branch A',color='blue')\n",
    "plt.xlabel('Rating')\n",
    "plt.legend(loc=0)\n",
    "\n",
    "plt.subplot(1,3,2)\n",
    "plt.hist('Rating',data=data[data['Branch']=='B'],alpha=0.5,label='Branch B',color='red')\n",
    "plt.xlabel('Rating')\n",
    "plt.legend(loc=0)\n",
    "\n",
    "plt.subplot(1,3,3)\n",
    "plt.hist('Rating',data=data[data['Branch']=='C'],alpha=0.5,label='Branch C',color='black')\n",
    "plt.xlabel('Rating')\n",
    "plt.legend(loc=0)"
   ]
  },
  {
   "cell_type": "code",
   "execution_count": 65,
   "id": "homeless-living",
   "metadata": {},
   "outputs": [
    {
     "data": {
      "text/plain": [
       "<matplotlib.legend.Legend at 0xda25c640>"
      ]
     },
     "execution_count": 65,
     "metadata": {},
     "output_type": "execute_result"
    },
    {
     "data": {
      "image/png": "[encoded data removed]",
      "text/plain": [
       "<Figure size 432x288 with 3 Axes>"
      ]
     },
     "metadata": {},
     "output_type": "display_data"
    }
   ],
   "source": [
    "plt.subplot(1,3,1)\n",
    "plt.hist('Rating',data=data[data['City']=='Abuja'],alpha=0.5,label='Abuja',color='blue')\n",
    "plt.xlabel('Rating')\n",
    "plt.legend(loc=0)\n",
    "\n",
    "plt.subplot(1,3,2)\n",
    "plt.hist('Rating',data=data[data['City']=='Lagos'],alpha=0.5,label='Lagos',color='red')\n",
    "plt.xlabel('Rating')\n",
    "plt.legend(loc=0)\n",
    "\n",
    "plt.subplot(1,3,3)\n",
    "plt.hist('Rating',data=data[data['City']=='Port Harcourt'],alpha=0.5,label='Port Harcourt',color='black')\n",
    "plt.xlabel('Rating')\n",
    "plt.legend(loc=0)"
   ]
  },
  {
   "cell_type": "code",
   "execution_count": 66,
   "id": "quality-violin",
   "metadata": {},
   "outputs": [
    {
     "data": {
      "text/plain": [
       "<matplotlib.legend.Legend at 0xd9ff3a18>"
      ]
     },
     "execution_count": 66,
     "metadata": {},
     "output_type": "execute_result"
    },
    {
     "data": {
      "image/png": "[encoded data removed]",
      "text/plain": [
       "<Figure size 432x288 with 5 Axes>"
      ]
     },
     "metadata": {},
     "output_type": "display_data"
    }
   ],
   "source": [
    "plt.subplot(3,2,1)\n",
    "plt.hist('Rating',data=data[data['Product line']=='Fashion accessories'],alpha=0.5,label='Abuja',color='blue')\n",
    "plt.xlabel('Rating')\n",
    "plt.legend(loc=0)\n",
    "\n",
    "plt.subplot(3,2,2)\n",
    "plt.hist('Rating',data=data[data['Product line']=='Food and beverages'],alpha=0.5,label='Abuja',color='r')\n",
    "plt.xlabel('Rating')\n",
    "plt.legend(loc=0)\n",
    "\n",
    "plt.subplot(3,2,3)\n",
    "plt.hist('Rating',data=data[data['Product line']=='Electrical accessories'],alpha=0.5,label='Abuja',color='g')\n",
    "plt.xlabel('Rating')\n",
    "plt.legend(loc=0)\n",
    "\n",
    "plt.subplot(3,3,4)\n",
    "plt.hist('Rating',data=data[data['Product line']=='Sports and travel'],alpha=0.5,label='Abuja',color='k')\n",
    "plt.xlabel('Rating')\n",
    "plt.legend(loc=0)\n",
    "\n",
    "plt.subplot(3,2,5)\n",
    "plt.hist('Rating',data=data[data['Product line']=='Home and lifesttyle'],alpha=0.5,label='Abuja',color='y')\n",
    "plt.xlabel('Rating')\n",
    "plt.legend(loc=0)\n",
    "\n",
    "plt.subplot(3,2,6)\n",
    "plt.hist('Rating',data=data[data['Product line']=='Health and beauty'],alpha=0.5,label='Abuja',color='r')\n",
    "plt.xlabel('Rating')\n",
    "plt.legend(loc=0)\n"
   ]
  }
 ],
 "metadata": {
  "kernelspec": {
   "display_name": "Python 3",
   "language": "python",
   "name": "python3"
  },
  "language_info": {
   "codemirror_mode": {
    "name": "ipython",
    "version": 3
   },
   "file_extension": ".py",
   "mimetype": "text/x-python",
   "name": "python",
   "nbconvert_exporter": "python",
   "pygments_lexer": "ipython3",
   "version": "3.8.3"
  }
 },
 "nbformat": 4,
 "nbformat_minor": 5
}
